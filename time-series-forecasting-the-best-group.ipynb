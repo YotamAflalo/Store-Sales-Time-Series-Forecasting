{
 "cells": [
  {
   "cell_type": "code",
   "execution_count": 1,
   "id": "7932915d",
   "metadata": {
    "_cell_guid": "b1076dfc-b9ad-4769-8c92-a6c4dae69d19",
    "_uuid": "8f2839f25d086af736a60e9eeb907d3b93b6e0e5",
    "execution": {
     "iopub.execute_input": "2024-02-10T15:10:40.041267Z",
     "iopub.status.busy": "2024-02-10T15:10:40.040778Z",
     "iopub.status.idle": "2024-02-10T15:10:42.515357Z",
     "shell.execute_reply": "2024-02-10T15:10:42.514288Z"
    },
    "papermill": {
     "duration": 2.496071,
     "end_time": "2024-02-10T15:10:42.518091",
     "exception": false,
     "start_time": "2024-02-10T15:10:40.022020",
     "status": "completed"
    },
    "tags": []
   },
   "outputs": [],
   "source": [
    "# This Python 3 environment comes with many helpful analytics libraries installed\n",
    "# It is defined by the kaggle/python Docker image: https://github.com/kaggle/docker-python\n",
    "# For example, here's several helpful packages to load\n",
    "\n",
    "import numpy as np # linear algebra\n",
    "import pandas as pd # data processing, CSV file I/O (e.g. pd.read_csv)\n",
    "import seaborn as sns\n",
    "import matplotlib.pyplot as plt\n",
    "# Input data files are available in the read-only \"../input/\" directory\n",
    "# For example, running this (by clicking run or pressing Shift+Enter) will list all files under the input directory\n",
    "import os\n",
    "#for dirname, _, filenames in os.walk('/kaggle/input'):\n",
    "#    for filename in filenames:\n",
    "#        print(os.path.join(dirname, filename))\n",
    "\n",
    "# You can write up to 20GB to the current directory (/kaggle/working/) that gets preserved as output when you create a version using \"Save & Run All\" \n",
    "# You can also write temporary files to /kaggle/temp/, but they won't be saved outside of the current session"
   ]
  },
  {
   "cell_type": "code",
   "execution_count": 5,
   "id": "0e1df320",
   "metadata": {
    "execution": {
     "iopub.execute_input": "2024-02-10T15:10:42.551403Z",
     "iopub.status.busy": "2024-02-10T15:10:42.550882Z",
     "iopub.status.idle": "2024-02-10T15:10:47.336293Z",
     "shell.execute_reply": "2024-02-10T15:10:47.335414Z"
    },
    "papermill": {
     "duration": 4.805107,
     "end_time": "2024-02-10T15:10:47.339241",
     "exception": false,
     "start_time": "2024-02-10T15:10:42.534134",
     "status": "completed"
    },
    "tags": []
   },
   "outputs": [],
   "source": [
    "PATH = \"\\data\"\n",
    "\n",
    "train = pd.read_csv(os.path.join(r\"C:\\Users\\yotam\\Desktop\\code\\time_s\\data\\train.csv\"), parse_dates=[\"date\"])\n",
    "test = pd.read_csv(os.path.join(r\"C:\\Users\\yotam\\Desktop\\code\\time_s\\data\\test.csv\"), parse_dates=[\"date\"])\n",
    "\n",
    "oil = pd.read_csv(os.path.join(r\"C:\\Users\\yotam\\Desktop\\code\\time_s\\data\\oil.csv\"), parse_dates=[\"date\"]).rename(columns={\"dcoilwtico\": \"oil\"})\n",
    "store = pd.read_csv(os.path.join(r\"C:\\Users\\yotam\\Desktop\\code\\time_s\\data\\stores.csv\"))\n",
    "transaction = pd.read_csv(os.path.join(r\"C:\\Users\\yotam\\Desktop\\code\\time_s\\data\\transactions.csv\"), parse_dates=[\"date\"])\n",
    "holiday = pd.read_csv(os.path.join(r\"C:\\Users\\yotam\\Desktop\\code\\time_s\\data\\holidays_events.csv\"), parse_dates=[\"date\"])"
   ]
  },
  {
   "cell_type": "code",
   "execution_count": 6,
   "id": "299bca30",
   "metadata": {
    "execution": {
     "iopub.execute_input": "2024-02-10T15:10:47.374144Z",
     "iopub.status.busy": "2024-02-10T15:10:47.373080Z",
     "iopub.status.idle": "2024-02-10T15:10:48.166068Z",
     "shell.execute_reply": "2024-02-10T15:10:48.165040Z"
    },
    "papermill": {
     "duration": 0.813627,
     "end_time": "2024-02-10T15:10:48.168800",
     "exception": false,
     "start_time": "2024-02-10T15:10:47.355173",
     "status": "completed"
    },
    "tags": []
   },
   "outputs": [],
   "source": [
    "family_list = list(train.family.unique())\n",
    "num_family = len(family_list)\n",
    "store_list = train.store_nbr.unique()\n",
    "num_store = train.store_nbr.nunique()\n",
    "num_ts = train.groupby([\"store_nbr\", \"family\"]).ngroups\n",
    "train_start = train.date.min().date()\n",
    "train_end = train.date.max().date()\n",
    "num_train_date = train.date.nunique()\n",
    "train_len = (train_end - train_start).days + 1\n",
    "test_start = test.date.min().date()\n",
    "test_end = test.date.max().date()\n",
    "num_test_date = test.date.nunique()\n",
    "test_len = (test_end - test_start).days + 1"
   ]
  },
  {
   "cell_type": "code",
   "execution_count": 9,
   "id": "bae48ec5",
   "metadata": {
    "execution": {
     "iopub.execute_input": "2024-02-10T15:10:48.241946Z",
     "iopub.status.busy": "2024-02-10T15:10:48.241003Z",
     "iopub.status.idle": "2024-02-10T15:10:48.735824Z",
     "shell.execute_reply": "2024-02-10T15:10:48.734618Z"
    },
    "papermill": {
     "duration": 0.514672,
     "end_time": "2024-02-10T15:10:48.738650",
     "exception": false,
     "start_time": "2024-02-10T15:10:48.223978",
     "status": "completed"
    },
    "tags": []
   },
   "outputs": [],
   "source": [
    "missing_dates = pd.date_range(train_start, train_end).difference(train.date.unique())\n",
    "missing_dates = missing_dates.strftime(\"%Y-%m-%d\").tolist()\n",
    "\n",
    "unique_dp_count = train.groupby([\"store_nbr\", \"family\"]).date.count().unique().tolist()"
   ]
  },
  {
   "cell_type": "code",
   "execution_count": 10,
   "id": "56e11664",
   "metadata": {
    "execution": {
     "iopub.execute_input": "2024-02-10T15:10:48.772277Z",
     "iopub.status.busy": "2024-02-10T15:10:48.771068Z",
     "iopub.status.idle": "2024-02-10T15:10:48.776905Z",
     "shell.execute_reply": "2024-02-10T15:10:48.775649Z"
    },
    "papermill": {
     "duration": 0.025174,
     "end_time": "2024-02-10T15:10:48.779263",
     "exception": false,
     "start_time": "2024-02-10T15:10:48.754089",
     "status": "completed"
    },
    "tags": []
   },
   "outputs": [
    {
     "name": "stdout",
     "output_type": "stream",
     "text": [
      "the missing date are ['2013-12-25', '2014-12-25', '2015-12-25', '2016-12-25'], \n",
      "no seles on Christmas \n"
     ]
    }
   ],
   "source": [
    "print(f\"the missing date are {missing_dates}, \\nno seles on Christmas \")"
   ]
  },
  {
   "cell_type": "markdown",
   "id": "983dc880",
   "metadata": {
    "papermill": {
     "duration": 0.015829,
     "end_time": "2024-02-10T15:10:48.853422",
     "exception": false,
     "start_time": "2024-02-10T15:10:48.837593",
     "status": "completed"
    },
    "tags": []
   },
   "source": [
    "מחשבה: בשביל מודל מדוייק אולי נכון להסתכל על המכירות יום לפני ויום אחרי החג, בפועל - אין בטסט נתונים מימי הכריסמס"
   ]
  },
  {
   "cell_type": "markdown",
   "id": "612078a8",
   "metadata": {
    "papermill": {
     "duration": 0.015593,
     "end_time": "2024-02-10T15:10:48.884911",
     "exception": false,
     "start_time": "2024-02-10T15:10:48.869318",
     "status": "completed"
    },
    "tags": []
   },
   "source": [
    "### oil"
   ]
  },
  {
   "cell_type": "markdown",
   "id": "f9387a90",
   "metadata": {
    "papermill": {
     "duration": 0.015854,
     "end_time": "2024-02-10T15:10:48.916605",
     "exception": false,
     "start_time": "2024-02-10T15:10:48.900751",
     "status": "completed"
    },
    "tags": []
   },
   "source": [
    "no oil price at the weekends"
   ]
  },
  {
   "cell_type": "code",
   "execution_count": 7,
   "id": "c923d9ea",
   "metadata": {
    "execution": {
     "iopub.execute_input": "2024-02-10T15:10:48.950545Z",
     "iopub.status.busy": "2024-02-10T15:10:48.950100Z",
     "iopub.status.idle": "2024-02-10T15:10:48.959744Z",
     "shell.execute_reply": "2024-02-10T15:10:48.958456Z"
    },
    "papermill": {
     "duration": 0.029325,
     "end_time": "2024-02-10T15:10:48.962021",
     "exception": false,
     "start_time": "2024-02-10T15:10:48.932696",
     "status": "completed"
    },
    "tags": []
   },
   "outputs": [
    {
     "name": "stdout",
     "output_type": "stream",
     "text": [
      "486 486\n"
     ]
    }
   ],
   "source": [
    "missing_oil_dates = pd.date_range(train_start, test_end).difference(oil.date)\n",
    "num_missing_oil_dates = len(missing_oil_dates)\n",
    "num_wknd_missing = (missing_oil_dates.weekday >= 5).sum()\n",
    "total_num_wknd = (pd.date_range(train_start, test_end).weekday >= 5).sum()\n",
    "\n",
    "print(num_missing_oil_dates,num_wknd_missing)"
   ]
  },
  {
   "cell_type": "code",
   "execution_count": 8,
   "id": "3839fc62",
   "metadata": {
    "execution": {
     "iopub.execute_input": "2024-02-10T15:10:48.996086Z",
     "iopub.status.busy": "2024-02-10T15:10:48.995301Z",
     "iopub.status.idle": "2024-02-10T15:10:49.014029Z",
     "shell.execute_reply": "2024-02-10T15:10:49.013113Z"
    },
    "papermill": {
     "duration": 0.03873,
     "end_time": "2024-02-10T15:10:49.016810",
     "exception": false,
     "start_time": "2024-02-10T15:10:48.978080",
     "status": "completed"
    },
    "tags": []
   },
   "outputs": [],
   "source": [
    "# reindex oil data\n",
    "oil = oil.merge(\n",
    "    pd.DataFrame({\"date\": pd.date_range(train_start, test_end)}),\n",
    "    on=\"date\",\n",
    "    how=\"outer\",\n",
    ").sort_values(\"date\", ignore_index=True)\n",
    "\n",
    "# fill missing values using linear interpolation\n",
    "oil.oil = oil.oil.interpolate(method=\"linear\", limit_direction=\"both\")"
   ]
  },
  {
   "cell_type": "code",
   "execution_count": 9,
   "id": "5423c721",
   "metadata": {
    "execution": {
     "iopub.execute_input": "2024-02-10T15:10:49.105429Z",
     "iopub.status.busy": "2024-02-10T15:10:49.104363Z",
     "iopub.status.idle": "2024-02-10T15:10:49.322979Z",
     "shell.execute_reply": "2024-02-10T15:10:49.321907Z"
    },
    "papermill": {
     "duration": 0.239437,
     "end_time": "2024-02-10T15:10:49.326021",
     "exception": false,
     "start_time": "2024-02-10T15:10:49.086584",
     "status": "completed"
    },
    "tags": []
   },
   "outputs": [
    {
     "name": "stdout",
     "output_type": "stream",
     "text": [
      "3000888\n",
      "3000888\n"
     ]
    }
   ],
   "source": [
    "#3000888 rows before marege\n",
    "print(len(train))\n",
    "train = train.merge(oil, on = 'date', how='left')\n",
    "print(len(train))\n"
   ]
  },
  {
   "cell_type": "code",
   "execution_count": 12,
   "id": "44f8edbb",
   "metadata": {
    "execution": {
     "iopub.execute_input": "2024-02-10T15:10:49.360541Z",
     "iopub.status.busy": "2024-02-10T15:10:49.360159Z",
     "iopub.status.idle": "2024-02-10T15:10:49.371284Z",
     "shell.execute_reply": "2024-02-10T15:10:49.370188Z"
    },
    "papermill": {
     "duration": 0.031096,
     "end_time": "2024-02-10T15:10:49.373627",
     "exception": false,
     "start_time": "2024-02-10T15:10:49.342531",
     "status": "completed"
    },
    "tags": []
   },
   "outputs": [
    {
     "name": "stdout",
     "output_type": "stream",
     "text": [
      "28512\n",
      "28512\n"
     ]
    }
   ],
   "source": [
    "#28512 rows before marege\n",
    "print(len(test))\n",
    "test = test.merge(oil, on = 'date', how='left')\n",
    "print(len(test))"
   ]
  },
  {
   "cell_type": "markdown",
   "id": "d2e1def1",
   "metadata": {
    "papermill": {
     "duration": 0.016326,
     "end_time": "2024-02-10T15:10:49.406924",
     "exception": false,
     "start_time": "2024-02-10T15:10:49.390598",
     "status": "completed"
    },
    "tags": []
   },
   "source": [
    "## dates"
   ]
  },
  {
   "cell_type": "code",
   "execution_count": 10,
   "id": "dc360786",
   "metadata": {
    "execution": {
     "iopub.execute_input": "2024-02-10T15:10:49.441895Z",
     "iopub.status.busy": "2024-02-10T15:10:49.441525Z",
     "iopub.status.idle": "2024-02-10T15:10:51.021951Z",
     "shell.execute_reply": "2024-02-10T15:10:51.020653Z"
    },
    "papermill": {
     "duration": 1.600932,
     "end_time": "2024-02-10T15:10:51.024562",
     "exception": false,
     "start_time": "2024-02-10T15:10:49.423630",
     "status": "completed"
    },
    "tags": []
   },
   "outputs": [],
   "source": [
    "train['week_day']=train.date.dt.day_of_week+1\n",
    "train['year'] = train.date.dt.year\n",
    "train['month'] = train.date.dt.month\n",
    "train['year_day'] = train.date.dt.day_of_year\n",
    "train['day_name'] = train.date.dt.day_name()\n",
    "# 0: Winter - 1: Spring - 2: Summer - 3: Fall\n",
    "train[\"season\"] = np.where(train.month.isin([12,1,2]), 0, 1)\n",
    "train[\"season\"] = np.where(train.month.isin([6,7,8]), 2, train[\"season\"])\n",
    "train[\"season\"] = pd.Series(np.where(train.month.isin([9, 10, 11]), 3, train[\"season\"])).astype(\"int8\")"
   ]
  },
  {
   "cell_type": "code",
   "execution_count": 14,
   "id": "a9718327",
   "metadata": {
    "execution": {
     "iopub.execute_input": "2024-02-10T15:10:51.060364Z",
     "iopub.status.busy": "2024-02-10T15:10:51.059183Z",
     "iopub.status.idle": "2024-02-10T15:10:51.081135Z",
     "shell.execute_reply": "2024-02-10T15:10:51.080334Z"
    },
    "papermill": {
     "duration": 0.041957,
     "end_time": "2024-02-10T15:10:51.083233",
     "exception": false,
     "start_time": "2024-02-10T15:10:51.041276",
     "status": "completed"
    },
    "tags": []
   },
   "outputs": [
    {
     "data": {
      "text/html": [
       "<div>\n",
       "<style scoped>\n",
       "    .dataframe tbody tr th:only-of-type {\n",
       "        vertical-align: middle;\n",
       "    }\n",
       "\n",
       "    .dataframe tbody tr th {\n",
       "        vertical-align: top;\n",
       "    }\n",
       "\n",
       "    .dataframe thead th {\n",
       "        text-align: right;\n",
       "    }\n",
       "</style>\n",
       "<table border=\"1\" class=\"dataframe\">\n",
       "  <thead>\n",
       "    <tr style=\"text-align: right;\">\n",
       "      <th></th>\n",
       "      <th>id</th>\n",
       "      <th>date</th>\n",
       "      <th>store_nbr</th>\n",
       "      <th>family</th>\n",
       "      <th>sales</th>\n",
       "      <th>onpromotion</th>\n",
       "      <th>oil</th>\n",
       "      <th>week_day</th>\n",
       "      <th>year</th>\n",
       "      <th>month</th>\n",
       "      <th>year_day</th>\n",
       "      <th>day_name</th>\n",
       "      <th>season</th>\n",
       "    </tr>\n",
       "  </thead>\n",
       "  <tbody>\n",
       "    <tr>\n",
       "      <th>0</th>\n",
       "      <td>0</td>\n",
       "      <td>2013-01-01</td>\n",
       "      <td>1</td>\n",
       "      <td>AUTOMOTIVE</td>\n",
       "      <td>0.000</td>\n",
       "      <td>0</td>\n",
       "      <td>93.14</td>\n",
       "      <td>2</td>\n",
       "      <td>2013</td>\n",
       "      <td>1</td>\n",
       "      <td>1</td>\n",
       "      <td>Tuesday</td>\n",
       "      <td>0</td>\n",
       "    </tr>\n",
       "    <tr>\n",
       "      <th>1</th>\n",
       "      <td>1</td>\n",
       "      <td>2013-01-01</td>\n",
       "      <td>1</td>\n",
       "      <td>BABY CARE</td>\n",
       "      <td>0.000</td>\n",
       "      <td>0</td>\n",
       "      <td>93.14</td>\n",
       "      <td>2</td>\n",
       "      <td>2013</td>\n",
       "      <td>1</td>\n",
       "      <td>1</td>\n",
       "      <td>Tuesday</td>\n",
       "      <td>0</td>\n",
       "    </tr>\n",
       "    <tr>\n",
       "      <th>2</th>\n",
       "      <td>2</td>\n",
       "      <td>2013-01-01</td>\n",
       "      <td>1</td>\n",
       "      <td>BEAUTY</td>\n",
       "      <td>0.000</td>\n",
       "      <td>0</td>\n",
       "      <td>93.14</td>\n",
       "      <td>2</td>\n",
       "      <td>2013</td>\n",
       "      <td>1</td>\n",
       "      <td>1</td>\n",
       "      <td>Tuesday</td>\n",
       "      <td>0</td>\n",
       "    </tr>\n",
       "    <tr>\n",
       "      <th>3</th>\n",
       "      <td>3</td>\n",
       "      <td>2013-01-01</td>\n",
       "      <td>1</td>\n",
       "      <td>BEVERAGES</td>\n",
       "      <td>0.000</td>\n",
       "      <td>0</td>\n",
       "      <td>93.14</td>\n",
       "      <td>2</td>\n",
       "      <td>2013</td>\n",
       "      <td>1</td>\n",
       "      <td>1</td>\n",
       "      <td>Tuesday</td>\n",
       "      <td>0</td>\n",
       "    </tr>\n",
       "    <tr>\n",
       "      <th>4</th>\n",
       "      <td>4</td>\n",
       "      <td>2013-01-01</td>\n",
       "      <td>1</td>\n",
       "      <td>BOOKS</td>\n",
       "      <td>0.000</td>\n",
       "      <td>0</td>\n",
       "      <td>93.14</td>\n",
       "      <td>2</td>\n",
       "      <td>2013</td>\n",
       "      <td>1</td>\n",
       "      <td>1</td>\n",
       "      <td>Tuesday</td>\n",
       "      <td>0</td>\n",
       "    </tr>\n",
       "    <tr>\n",
       "      <th>...</th>\n",
       "      <td>...</td>\n",
       "      <td>...</td>\n",
       "      <td>...</td>\n",
       "      <td>...</td>\n",
       "      <td>...</td>\n",
       "      <td>...</td>\n",
       "      <td>...</td>\n",
       "      <td>...</td>\n",
       "      <td>...</td>\n",
       "      <td>...</td>\n",
       "      <td>...</td>\n",
       "      <td>...</td>\n",
       "      <td>...</td>\n",
       "    </tr>\n",
       "    <tr>\n",
       "      <th>3000883</th>\n",
       "      <td>3000883</td>\n",
       "      <td>2017-08-15</td>\n",
       "      <td>9</td>\n",
       "      <td>POULTRY</td>\n",
       "      <td>438.133</td>\n",
       "      <td>0</td>\n",
       "      <td>47.57</td>\n",
       "      <td>2</td>\n",
       "      <td>2017</td>\n",
       "      <td>8</td>\n",
       "      <td>227</td>\n",
       "      <td>Tuesday</td>\n",
       "      <td>2</td>\n",
       "    </tr>\n",
       "    <tr>\n",
       "      <th>3000884</th>\n",
       "      <td>3000884</td>\n",
       "      <td>2017-08-15</td>\n",
       "      <td>9</td>\n",
       "      <td>PREPARED FOODS</td>\n",
       "      <td>154.553</td>\n",
       "      <td>1</td>\n",
       "      <td>47.57</td>\n",
       "      <td>2</td>\n",
       "      <td>2017</td>\n",
       "      <td>8</td>\n",
       "      <td>227</td>\n",
       "      <td>Tuesday</td>\n",
       "      <td>2</td>\n",
       "    </tr>\n",
       "    <tr>\n",
       "      <th>3000885</th>\n",
       "      <td>3000885</td>\n",
       "      <td>2017-08-15</td>\n",
       "      <td>9</td>\n",
       "      <td>PRODUCE</td>\n",
       "      <td>2419.729</td>\n",
       "      <td>148</td>\n",
       "      <td>47.57</td>\n",
       "      <td>2</td>\n",
       "      <td>2017</td>\n",
       "      <td>8</td>\n",
       "      <td>227</td>\n",
       "      <td>Tuesday</td>\n",
       "      <td>2</td>\n",
       "    </tr>\n",
       "    <tr>\n",
       "      <th>3000886</th>\n",
       "      <td>3000886</td>\n",
       "      <td>2017-08-15</td>\n",
       "      <td>9</td>\n",
       "      <td>SCHOOL AND OFFICE SUPPLIES</td>\n",
       "      <td>121.000</td>\n",
       "      <td>8</td>\n",
       "      <td>47.57</td>\n",
       "      <td>2</td>\n",
       "      <td>2017</td>\n",
       "      <td>8</td>\n",
       "      <td>227</td>\n",
       "      <td>Tuesday</td>\n",
       "      <td>2</td>\n",
       "    </tr>\n",
       "    <tr>\n",
       "      <th>3000887</th>\n",
       "      <td>3000887</td>\n",
       "      <td>2017-08-15</td>\n",
       "      <td>9</td>\n",
       "      <td>SEAFOOD</td>\n",
       "      <td>16.000</td>\n",
       "      <td>0</td>\n",
       "      <td>47.57</td>\n",
       "      <td>2</td>\n",
       "      <td>2017</td>\n",
       "      <td>8</td>\n",
       "      <td>227</td>\n",
       "      <td>Tuesday</td>\n",
       "      <td>2</td>\n",
       "    </tr>\n",
       "  </tbody>\n",
       "</table>\n",
       "<p>3000888 rows × 13 columns</p>\n",
       "</div>"
      ],
      "text/plain": [
       "              id       date  store_nbr                      family     sales  \\\n",
       "0              0 2013-01-01          1                  AUTOMOTIVE     0.000   \n",
       "1              1 2013-01-01          1                   BABY CARE     0.000   \n",
       "2              2 2013-01-01          1                      BEAUTY     0.000   \n",
       "3              3 2013-01-01          1                   BEVERAGES     0.000   \n",
       "4              4 2013-01-01          1                       BOOKS     0.000   \n",
       "...          ...        ...        ...                         ...       ...   \n",
       "3000883  3000883 2017-08-15          9                     POULTRY   438.133   \n",
       "3000884  3000884 2017-08-15          9              PREPARED FOODS   154.553   \n",
       "3000885  3000885 2017-08-15          9                     PRODUCE  2419.729   \n",
       "3000886  3000886 2017-08-15          9  SCHOOL AND OFFICE SUPPLIES   121.000   \n",
       "3000887  3000887 2017-08-15          9                     SEAFOOD    16.000   \n",
       "\n",
       "         onpromotion    oil  week_day  year  month  year_day day_name  season  \n",
       "0                  0  93.14         2  2013      1         1  Tuesday       0  \n",
       "1                  0  93.14         2  2013      1         1  Tuesday       0  \n",
       "2                  0  93.14         2  2013      1         1  Tuesday       0  \n",
       "3                  0  93.14         2  2013      1         1  Tuesday       0  \n",
       "4                  0  93.14         2  2013      1         1  Tuesday       0  \n",
       "...              ...    ...       ...   ...    ...       ...      ...     ...  \n",
       "3000883            0  47.57         2  2017      8       227  Tuesday       2  \n",
       "3000884            1  47.57         2  2017      8       227  Tuesday       2  \n",
       "3000885          148  47.57         2  2017      8       227  Tuesday       2  \n",
       "3000886            8  47.57         2  2017      8       227  Tuesday       2  \n",
       "3000887            0  47.57         2  2017      8       227  Tuesday       2  \n",
       "\n",
       "[3000888 rows x 13 columns]"
      ]
     },
     "execution_count": 14,
     "metadata": {},
     "output_type": "execute_result"
    }
   ],
   "source": [
    "train"
   ]
  },
  {
   "cell_type": "code",
   "execution_count": 15,
   "id": "73e24b0c",
   "metadata": {
    "execution": {
     "iopub.execute_input": "2024-02-10T15:10:51.120091Z",
     "iopub.status.busy": "2024-02-10T15:10:51.119377Z",
     "iopub.status.idle": "2024-02-10T15:10:51.745468Z",
     "shell.execute_reply": "2024-02-10T15:10:51.744483Z"
    },
    "papermill": {
     "duration": 0.647251,
     "end_time": "2024-02-10T15:10:51.748051",
     "exception": false,
     "start_time": "2024-02-10T15:10:51.100800",
     "status": "completed"
    },
    "tags": []
   },
   "outputs": [],
   "source": [
    "temp =train.copy()"
   ]
  },
  {
   "cell_type": "code",
   "execution_count": 22,
   "id": "31689754",
   "metadata": {
    "execution": {
     "iopub.execute_input": "2024-02-10T15:10:51.785513Z",
     "iopub.status.busy": "2024-02-10T15:10:51.785111Z",
     "iopub.status.idle": "2024-02-10T15:10:54.527140Z",
     "shell.execute_reply": "2024-02-10T15:10:54.525979Z"
    },
    "papermill": {
     "duration": 2.764051,
     "end_time": "2024-02-10T15:10:54.529775",
     "exception": false,
     "start_time": "2024-02-10T15:10:51.765724",
     "status": "completed"
    },
    "tags": []
   },
   "outputs": [
    {
     "data": {
      "application/vnd.plotly.v1+json": {
       "config": {
        "plotlyServerURL": "https://plot.ly"
       },
       "data": [
        {
         "hovertemplate": "year=2013<br>week_day=%{x}<br>sales=%{y}<extra></extra>",
         "legendgroup": "2013",
         "line": {
          "color": "#636efa",
          "dash": "solid"
         },
         "marker": {
          "symbol": "circle"
         },
         "mode": "lines",
         "name": "2013",
         "orientation": "v",
         "showlegend": true,
         "type": "scatter",
         "x": [
          1,
          2,
          3,
          4,
          5,
          6,
          7
         ],
         "xaxis": "x",
         "y": [
          211.24217605864737,
          186.23664528861784,
          192.26906783835634,
          173.58434671708753,
          195.1372392787188,
          271.49242851676377,
          285.51081166700766
         ],
         "yaxis": "y"
        },
        {
         "hovertemplate": "year=2014<br>week_day=%{x}<br>sales=%{y}<extra></extra>",
         "legendgroup": "2014",
         "line": {
          "color": "#EF553B",
          "dash": "solid"
         },
         "marker": {
          "symbol": "circle"
         },
         "mode": "lines",
         "name": "2014",
         "orientation": "v",
         "showlegend": true,
         "type": "scatter",
         "x": [
          1,
          2,
          3,
          4,
          5,
          6,
          7
         ],
         "xaxis": "x",
         "y": [
          315.05247489729453,
          291.04077425146767,
          297.2102680577335,
          255.8980341211901,
          285.06089888828024,
          392.82352296135497,
          422.6980627014342
         ],
         "yaxis": "y"
        },
        {
         "hovertemplate": "year=2015<br>week_day=%{x}<br>sales=%{y}<extra></extra>",
         "legendgroup": "2015",
         "line": {
          "color": "#00cc96",
          "dash": "solid"
         },
         "marker": {
          "symbol": "circle"
         },
         "mode": "lines",
         "name": "2015",
         "orientation": "v",
         "showlegend": true,
         "type": "scatter",
         "x": [
          1,
          2,
          3,
          4,
          5,
          6,
          7
         ],
         "xaxis": "x",
         "y": [
          355.7678564979043,
          333.73820594484374,
          348.2240995434505,
          294.77752718665795,
          335.1712255400453,
          447.67100571870094,
          484.9272338592323
         ],
         "yaxis": "y"
        },
        {
         "hovertemplate": "year=2016<br>week_day=%{x}<br>sales=%{y}<extra></extra>",
         "legendgroup": "2016",
         "line": {
          "color": "#ab63fa",
          "dash": "solid"
         },
         "marker": {
          "symbol": "circle"
         },
         "mode": "lines",
         "name": "2016",
         "orientation": "v",
         "showlegend": true,
         "type": "scatter",
         "x": [
          1,
          2,
          3,
          4,
          5,
          6,
          7
         ],
         "xaxis": "x",
         "y": [
          428.77588507570033,
          399.1791086486758,
          416.9011803098819,
          351.50716500781857,
          406.8749010267825,
          528.00880530578,
          576.9358506262615
         ],
         "yaxis": "y"
        },
        {
         "hovertemplate": "year=2017<br>week_day=%{x}<br>sales=%{y}<extra></extra>",
         "legendgroup": "2017",
         "line": {
          "color": "#FFA15A",
          "dash": "solid"
         },
         "marker": {
          "symbol": "circle"
         },
         "mode": "lines",
         "name": "2017",
         "orientation": "v",
         "showlegend": true,
         "type": "scatter",
         "x": [
          1,
          2,
          3,
          4,
          5,
          6,
          7
         ],
         "xaxis": "x",
         "y": [
          465.2631541047461,
          432.75779225717275,
          454.8085981451336,
          377.21739890817554,
          450.898361450114,
          582.0719190618985,
          596.1721740915417
         ],
         "yaxis": "y"
        }
       ],
       "layout": {
        "legend": {
         "title": {
          "text": "year"
         },
         "tracegroupgap": 0
        },
        "template": {
         "data": {
          "bar": [
           {
            "error_x": {
             "color": "#2a3f5f"
            },
            "error_y": {
             "color": "#2a3f5f"
            },
            "marker": {
             "line": {
              "color": "#E5ECF6",
              "width": 0.5
             },
             "pattern": {
              "fillmode": "overlay",
              "size": 10,
              "solidity": 0.2
             }
            },
            "type": "bar"
           }
          ],
          "barpolar": [
           {
            "marker": {
             "line": {
              "color": "#E5ECF6",
              "width": 0.5
             },
             "pattern": {
              "fillmode": "overlay",
              "size": 10,
              "solidity": 0.2
             }
            },
            "type": "barpolar"
           }
          ],
          "carpet": [
           {
            "aaxis": {
             "endlinecolor": "#2a3f5f",
             "gridcolor": "white",
             "linecolor": "white",
             "minorgridcolor": "white",
             "startlinecolor": "#2a3f5f"
            },
            "baxis": {
             "endlinecolor": "#2a3f5f",
             "gridcolor": "white",
             "linecolor": "white",
             "minorgridcolor": "white",
             "startlinecolor": "#2a3f5f"
            },
            "type": "carpet"
           }
          ],
          "choropleth": [
           {
            "colorbar": {
             "outlinewidth": 0,
             "ticks": ""
            },
            "type": "choropleth"
           }
          ],
          "contour": [
           {
            "colorbar": {
             "outlinewidth": 0,
             "ticks": ""
            },
            "colorscale": [
             [
              0,
              "#0d0887"
             ],
             [
              0.1111111111111111,
              "#46039f"
             ],
             [
              0.2222222222222222,
              "#7201a8"
             ],
             [
              0.3333333333333333,
              "#9c179e"
             ],
             [
              0.4444444444444444,
              "#bd3786"
             ],
             [
              0.5555555555555556,
              "#d8576b"
             ],
             [
              0.6666666666666666,
              "#ed7953"
             ],
             [
              0.7777777777777778,
              "#fb9f3a"
             ],
             [
              0.8888888888888888,
              "#fdca26"
             ],
             [
              1,
              "#f0f921"
             ]
            ],
            "type": "contour"
           }
          ],
          "contourcarpet": [
           {
            "colorbar": {
             "outlinewidth": 0,
             "ticks": ""
            },
            "type": "contourcarpet"
           }
          ],
          "heatmap": [
           {
            "colorbar": {
             "outlinewidth": 0,
             "ticks": ""
            },
            "colorscale": [
             [
              0,
              "#0d0887"
             ],
             [
              0.1111111111111111,
              "#46039f"
             ],
             [
              0.2222222222222222,
              "#7201a8"
             ],
             [
              0.3333333333333333,
              "#9c179e"
             ],
             [
              0.4444444444444444,
              "#bd3786"
             ],
             [
              0.5555555555555556,
              "#d8576b"
             ],
             [
              0.6666666666666666,
              "#ed7953"
             ],
             [
              0.7777777777777778,
              "#fb9f3a"
             ],
             [
              0.8888888888888888,
              "#fdca26"
             ],
             [
              1,
              "#f0f921"
             ]
            ],
            "type": "heatmap"
           }
          ],
          "heatmapgl": [
           {
            "colorbar": {
             "outlinewidth": 0,
             "ticks": ""
            },
            "colorscale": [
             [
              0,
              "#0d0887"
             ],
             [
              0.1111111111111111,
              "#46039f"
             ],
             [
              0.2222222222222222,
              "#7201a8"
             ],
             [
              0.3333333333333333,
              "#9c179e"
             ],
             [
              0.4444444444444444,
              "#bd3786"
             ],
             [
              0.5555555555555556,
              "#d8576b"
             ],
             [
              0.6666666666666666,
              "#ed7953"
             ],
             [
              0.7777777777777778,
              "#fb9f3a"
             ],
             [
              0.8888888888888888,
              "#fdca26"
             ],
             [
              1,
              "#f0f921"
             ]
            ],
            "type": "heatmapgl"
           }
          ],
          "histogram": [
           {
            "marker": {
             "pattern": {
              "fillmode": "overlay",
              "size": 10,
              "solidity": 0.2
             }
            },
            "type": "histogram"
           }
          ],
          "histogram2d": [
           {
            "colorbar": {
             "outlinewidth": 0,
             "ticks": ""
            },
            "colorscale": [
             [
              0,
              "#0d0887"
             ],
             [
              0.1111111111111111,
              "#46039f"
             ],
             [
              0.2222222222222222,
              "#7201a8"
             ],
             [
              0.3333333333333333,
              "#9c179e"
             ],
             [
              0.4444444444444444,
              "#bd3786"
             ],
             [
              0.5555555555555556,
              "#d8576b"
             ],
             [
              0.6666666666666666,
              "#ed7953"
             ],
             [
              0.7777777777777778,
              "#fb9f3a"
             ],
             [
              0.8888888888888888,
              "#fdca26"
             ],
             [
              1,
              "#f0f921"
             ]
            ],
            "type": "histogram2d"
           }
          ],
          "histogram2dcontour": [
           {
            "colorbar": {
             "outlinewidth": 0,
             "ticks": ""
            },
            "colorscale": [
             [
              0,
              "#0d0887"
             ],
             [
              0.1111111111111111,
              "#46039f"
             ],
             [
              0.2222222222222222,
              "#7201a8"
             ],
             [
              0.3333333333333333,
              "#9c179e"
             ],
             [
              0.4444444444444444,
              "#bd3786"
             ],
             [
              0.5555555555555556,
              "#d8576b"
             ],
             [
              0.6666666666666666,
              "#ed7953"
             ],
             [
              0.7777777777777778,
              "#fb9f3a"
             ],
             [
              0.8888888888888888,
              "#fdca26"
             ],
             [
              1,
              "#f0f921"
             ]
            ],
            "type": "histogram2dcontour"
           }
          ],
          "mesh3d": [
           {
            "colorbar": {
             "outlinewidth": 0,
             "ticks": ""
            },
            "type": "mesh3d"
           }
          ],
          "parcoords": [
           {
            "line": {
             "colorbar": {
              "outlinewidth": 0,
              "ticks": ""
             }
            },
            "type": "parcoords"
           }
          ],
          "pie": [
           {
            "automargin": true,
            "type": "pie"
           }
          ],
          "scatter": [
           {
            "fillpattern": {
             "fillmode": "overlay",
             "size": 10,
             "solidity": 0.2
            },
            "type": "scatter"
           }
          ],
          "scatter3d": [
           {
            "line": {
             "colorbar": {
              "outlinewidth": 0,
              "ticks": ""
             }
            },
            "marker": {
             "colorbar": {
              "outlinewidth": 0,
              "ticks": ""
             }
            },
            "type": "scatter3d"
           }
          ],
          "scattercarpet": [
           {
            "marker": {
             "colorbar": {
              "outlinewidth": 0,
              "ticks": ""
             }
            },
            "type": "scattercarpet"
           }
          ],
          "scattergeo": [
           {
            "marker": {
             "colorbar": {
              "outlinewidth": 0,
              "ticks": ""
             }
            },
            "type": "scattergeo"
           }
          ],
          "scattergl": [
           {
            "marker": {
             "colorbar": {
              "outlinewidth": 0,
              "ticks": ""
             }
            },
            "type": "scattergl"
           }
          ],
          "scattermapbox": [
           {
            "marker": {
             "colorbar": {
              "outlinewidth": 0,
              "ticks": ""
             }
            },
            "type": "scattermapbox"
           }
          ],
          "scatterpolar": [
           {
            "marker": {
             "colorbar": {
              "outlinewidth": 0,
              "ticks": ""
             }
            },
            "type": "scatterpolar"
           }
          ],
          "scatterpolargl": [
           {
            "marker": {
             "colorbar": {
              "outlinewidth": 0,
              "ticks": ""
             }
            },
            "type": "scatterpolargl"
           }
          ],
          "scatterternary": [
           {
            "marker": {
             "colorbar": {
              "outlinewidth": 0,
              "ticks": ""
             }
            },
            "type": "scatterternary"
           }
          ],
          "surface": [
           {
            "colorbar": {
             "outlinewidth": 0,
             "ticks": ""
            },
            "colorscale": [
             [
              0,
              "#0d0887"
             ],
             [
              0.1111111111111111,
              "#46039f"
             ],
             [
              0.2222222222222222,
              "#7201a8"
             ],
             [
              0.3333333333333333,
              "#9c179e"
             ],
             [
              0.4444444444444444,
              "#bd3786"
             ],
             [
              0.5555555555555556,
              "#d8576b"
             ],
             [
              0.6666666666666666,
              "#ed7953"
             ],
             [
              0.7777777777777778,
              "#fb9f3a"
             ],
             [
              0.8888888888888888,
              "#fdca26"
             ],
             [
              1,
              "#f0f921"
             ]
            ],
            "type": "surface"
           }
          ],
          "table": [
           {
            "cells": {
             "fill": {
              "color": "#EBF0F8"
             },
             "line": {
              "color": "white"
             }
            },
            "header": {
             "fill": {
              "color": "#C8D4E3"
             },
             "line": {
              "color": "white"
             }
            },
            "type": "table"
           }
          ]
         },
         "layout": {
          "annotationdefaults": {
           "arrowcolor": "#2a3f5f",
           "arrowhead": 0,
           "arrowwidth": 1
          },
          "autotypenumbers": "strict",
          "coloraxis": {
           "colorbar": {
            "outlinewidth": 0,
            "ticks": ""
           }
          },
          "colorscale": {
           "diverging": [
            [
             0,
             "#8e0152"
            ],
            [
             0.1,
             "#c51b7d"
            ],
            [
             0.2,
             "#de77ae"
            ],
            [
             0.3,
             "#f1b6da"
            ],
            [
             0.4,
             "#fde0ef"
            ],
            [
             0.5,
             "#f7f7f7"
            ],
            [
             0.6,
             "#e6f5d0"
            ],
            [
             0.7,
             "#b8e186"
            ],
            [
             0.8,
             "#7fbc41"
            ],
            [
             0.9,
             "#4d9221"
            ],
            [
             1,
             "#276419"
            ]
           ],
           "sequential": [
            [
             0,
             "#0d0887"
            ],
            [
             0.1111111111111111,
             "#46039f"
            ],
            [
             0.2222222222222222,
             "#7201a8"
            ],
            [
             0.3333333333333333,
             "#9c179e"
            ],
            [
             0.4444444444444444,
             "#bd3786"
            ],
            [
             0.5555555555555556,
             "#d8576b"
            ],
            [
             0.6666666666666666,
             "#ed7953"
            ],
            [
             0.7777777777777778,
             "#fb9f3a"
            ],
            [
             0.8888888888888888,
             "#fdca26"
            ],
            [
             1,
             "#f0f921"
            ]
           ],
           "sequentialminus": [
            [
             0,
             "#0d0887"
            ],
            [
             0.1111111111111111,
             "#46039f"
            ],
            [
             0.2222222222222222,
             "#7201a8"
            ],
            [
             0.3333333333333333,
             "#9c179e"
            ],
            [
             0.4444444444444444,
             "#bd3786"
            ],
            [
             0.5555555555555556,
             "#d8576b"
            ],
            [
             0.6666666666666666,
             "#ed7953"
            ],
            [
             0.7777777777777778,
             "#fb9f3a"
            ],
            [
             0.8888888888888888,
             "#fdca26"
            ],
            [
             1,
             "#f0f921"
            ]
           ]
          },
          "colorway": [
           "#636efa",
           "#EF553B",
           "#00cc96",
           "#ab63fa",
           "#FFA15A",
           "#19d3f3",
           "#FF6692",
           "#B6E880",
           "#FF97FF",
           "#FECB52"
          ],
          "font": {
           "color": "#2a3f5f"
          },
          "geo": {
           "bgcolor": "white",
           "lakecolor": "white",
           "landcolor": "#E5ECF6",
           "showlakes": true,
           "showland": true,
           "subunitcolor": "white"
          },
          "hoverlabel": {
           "align": "left"
          },
          "hovermode": "closest",
          "mapbox": {
           "style": "light"
          },
          "paper_bgcolor": "white",
          "plot_bgcolor": "#E5ECF6",
          "polar": {
           "angularaxis": {
            "gridcolor": "white",
            "linecolor": "white",
            "ticks": ""
           },
           "bgcolor": "#E5ECF6",
           "radialaxis": {
            "gridcolor": "white",
            "linecolor": "white",
            "ticks": ""
           }
          },
          "scene": {
           "xaxis": {
            "backgroundcolor": "#E5ECF6",
            "gridcolor": "white",
            "gridwidth": 2,
            "linecolor": "white",
            "showbackground": true,
            "ticks": "",
            "zerolinecolor": "white"
           },
           "yaxis": {
            "backgroundcolor": "#E5ECF6",
            "gridcolor": "white",
            "gridwidth": 2,
            "linecolor": "white",
            "showbackground": true,
            "ticks": "",
            "zerolinecolor": "white"
           },
           "zaxis": {
            "backgroundcolor": "#E5ECF6",
            "gridcolor": "white",
            "gridwidth": 2,
            "linecolor": "white",
            "showbackground": true,
            "ticks": "",
            "zerolinecolor": "white"
           }
          },
          "shapedefaults": {
           "line": {
            "color": "#2a3f5f"
           }
          },
          "ternary": {
           "aaxis": {
            "gridcolor": "white",
            "linecolor": "white",
            "ticks": ""
           },
           "baxis": {
            "gridcolor": "white",
            "linecolor": "white",
            "ticks": ""
           },
           "bgcolor": "#E5ECF6",
           "caxis": {
            "gridcolor": "white",
            "linecolor": "white",
            "ticks": ""
           }
          },
          "title": {
           "x": 0.05
          },
          "xaxis": {
           "automargin": true,
           "gridcolor": "white",
           "linecolor": "white",
           "ticks": "",
           "title": {
            "standoff": 15
           },
           "zerolinecolor": "white",
           "zerolinewidth": 2
          },
          "yaxis": {
           "automargin": true,
           "gridcolor": "white",
           "linecolor": "white",
           "ticks": "",
           "title": {
            "standoff": 15
           },
           "zerolinecolor": "white",
           "zerolinewidth": 2
          }
         }
        },
        "title": {
         "text": "sales"
        },
        "xaxis": {
         "anchor": "y",
         "domain": [
          0,
          1
         ],
         "title": {
          "text": "week_day"
         }
        },
        "yaxis": {
         "anchor": "x",
         "domain": [
          0,
          1
         ],
         "title": {
          "text": "sales"
         }
        }
       }
      }
     },
     "metadata": {},
     "output_type": "display_data"
    }
   ],
   "source": [
    "import plotly.express as px\n",
    "temp = temp.groupby([\"year\", \"week_day\"]).sales.mean().reset_index()\n",
    "px.line(temp, x=\"week_day\", y=\"sales\" , color = \"year\", title = \"sales\")"
   ]
  },
  {
   "cell_type": "markdown",
   "id": "8a944df4",
   "metadata": {
    "papermill": {
     "duration": 0.017695,
     "end_time": "2024-02-10T15:10:54.565517",
     "exception": false,
     "start_time": "2024-02-10T15:10:54.547822",
     "status": "completed"
    },
    "tags": []
   },
   "source": [
    "ניתן לראות שיש מחזוריות שבועית במכירות."
   ]
  },
  {
   "cell_type": "markdown",
   "id": "21f01e3f",
   "metadata": {
    "papermill": {
     "duration": 0.018112,
     "end_time": "2024-02-10T15:10:54.601837",
     "exception": false,
     "start_time": "2024-02-10T15:10:54.583725",
     "status": "completed"
    },
    "tags": []
   },
   "source": [
    "## holydays"
   ]
  },
  {
   "cell_type": "markdown",
   "id": "3f06a59f",
   "metadata": {
    "papermill": {
     "duration": 0.017617,
     "end_time": "2024-02-10T15:10:54.696081",
     "exception": false,
     "start_time": "2024-02-10T15:10:54.678464",
     "status": "completed"
    },
    "tags": []
   },
   "source": [
    "צריך לשים לב שכשאנחנו מחברים את החגים אנחנו מחברים בצורה נכונה, כך שהחג יופיע רק עבור חנויות במדינות שחוגגות את אותו החג"
   ]
  },
  {
   "cell_type": "code",
   "execution_count": 15,
   "id": "19ff8c49",
   "metadata": {
    "execution": {
     "iopub.execute_input": "2024-02-10T15:10:54.734233Z",
     "iopub.status.busy": "2024-02-10T15:10:54.733805Z",
     "iopub.status.idle": "2024-02-10T15:10:54.740596Z",
     "shell.execute_reply": "2024-02-10T15:10:54.739477Z"
    },
    "papermill": {
     "duration": 0.028859,
     "end_time": "2024-02-10T15:10:54.742970",
     "exception": false,
     "start_time": "2024-02-10T15:10:54.714111",
     "status": "completed"
    },
    "tags": []
   },
   "outputs": [],
   "source": [
    "holiday = pd.read_csv(os.path.join(r\"C:\\Users\\yotam\\Desktop\\code\\time_s\\data\\holidays_events.csv\"), parse_dates=[\"date\"])\n",
    "holiday[\"date\"] = pd.to_datetime(holiday.date)\n"
   ]
  },
  {
   "cell_type": "markdown",
   "id": "060a2c6f",
   "metadata": {
    "papermill": {
     "duration": 0.017652,
     "end_time": "2024-02-10T15:10:54.778757",
     "exception": false,
     "start_time": "2024-02-10T15:10:54.761105",
     "status": "completed"
    },
    "tags": []
   },
   "source": [
    "אם אני מבין נכון, יש שני מקומות שבהם מצויים האם חג הועבר: עמודה ייעודית וב\"סוג החג\".\n",
    "\n",
    "יש הבדל בין שני הסימונים. אם כתוב שחג הועבר בעמודה הייעודית - סימן שזה המועד האמיתי של החג, אבל הוא נדחה.\n",
    "אם כתוב שחג נדחה ב\"סוג החג\", סימן שזה מועד שבו באמת מתקיים החג"
   ]
  },
  {
   "cell_type": "markdown",
   "id": "3b629124",
   "metadata": {
    "papermill": {
     "duration": 0.017651,
     "end_time": "2024-02-10T15:10:54.814887",
     "exception": false,
     "start_time": "2024-02-10T15:10:54.797236",
     "status": "completed"
    },
    "tags": []
   },
   "source": [
    "for example, Independencia de Guayaquil\t is at 9.10. its transferd to ather day each year"
   ]
  },
  {
   "cell_type": "code",
   "execution_count": 18,
   "id": "0095aac9",
   "metadata": {
    "execution": {
     "iopub.execute_input": "2024-02-10T15:10:54.853613Z",
     "iopub.status.busy": "2024-02-10T15:10:54.853182Z",
     "iopub.status.idle": "2024-02-10T15:10:54.860284Z",
     "shell.execute_reply": "2024-02-10T15:10:54.859180Z"
    },
    "papermill": {
     "duration": 0.029319,
     "end_time": "2024-02-10T15:10:54.862469",
     "exception": false,
     "start_time": "2024-02-10T15:10:54.833150",
     "status": "completed"
    },
    "tags": []
   },
   "outputs": [
    {
     "name": "stdout",
     "output_type": "stream",
     "text": [
      "350\n",
      "12\n"
     ]
    }
   ],
   "source": [
    "print(len(holiday))\n",
    "print(len(holiday[holiday.transferred==True]))"
   ]
  },
  {
   "cell_type": "code",
   "execution_count": 16,
   "id": "db42fbf9",
   "metadata": {
    "execution": {
     "iopub.execute_input": "2024-02-10T15:10:54.944872Z",
     "iopub.status.busy": "2024-02-10T15:10:54.944503Z",
     "iopub.status.idle": "2024-02-10T15:10:54.950470Z",
     "shell.execute_reply": "2024-02-10T15:10:54.949667Z"
    },
    "papermill": {
     "duration": 0.027409,
     "end_time": "2024-02-10T15:10:54.952362",
     "exception": false,
     "start_time": "2024-02-10T15:10:54.924953",
     "status": "completed"
    },
    "tags": []
   },
   "outputs": [],
   "source": [
    "holiday.loc[holiday['transferred']==True,'type'] ='transferred-Holiday(original_day)'\n",
    "holiday.drop(['transferred'],axis=1,inplace = True)"
   ]
  },
  {
   "cell_type": "code",
   "execution_count": 17,
   "id": "1a1b513e",
   "metadata": {
    "execution": {
     "iopub.execute_input": "2024-02-10T15:10:54.991272Z",
     "iopub.status.busy": "2024-02-10T15:10:54.990560Z",
     "iopub.status.idle": "2024-02-10T15:10:55.000111Z",
     "shell.execute_reply": "2024-02-10T15:10:54.999327Z"
    },
    "papermill": {
     "duration": 0.031475,
     "end_time": "2024-02-10T15:10:55.002353",
     "exception": false,
     "start_time": "2024-02-10T15:10:54.970878",
     "status": "completed"
    },
    "tags": []
   },
   "outputs": [],
   "source": [
    "# Additional Holidays\n",
    "holiday[\"description\"] = holiday[\"description\"]#.str.replace(\"-\", \"\").str.replace(\"+\", \"\").str.replace('\\d+', '')\n",
    "holiday[\"type\"] = np.where(holiday[\"type\"] == \"Additional\", \"Holiday\", holiday[\"type\"])\n",
    "\n",
    "# Bridge Holiday\n",
    "holiday[\"description\"] = holiday[\"description\"].str.replace(\"Puente \", \"\")\n",
    "holiday[\"description\"] = holiday[\"description\"].str.replace(\"Puente \", \"\")\n",
    "\n",
    "holiday[\"type\"] = np.where(holiday[\"type\"] == \"Bridge\", \"Holiday\", holiday[\"type\"])"
   ]
  },
  {
   "cell_type": "code",
   "execution_count": 18,
   "id": "40c05b10",
   "metadata": {},
   "outputs": [
    {
     "data": {
      "text/html": [
       "<div>\n",
       "<style scoped>\n",
       "    .dataframe tbody tr th:only-of-type {\n",
       "        vertical-align: middle;\n",
       "    }\n",
       "\n",
       "    .dataframe tbody tr th {\n",
       "        vertical-align: top;\n",
       "    }\n",
       "\n",
       "    .dataframe thead th {\n",
       "        text-align: right;\n",
       "    }\n",
       "</style>\n",
       "<table border=\"1\" class=\"dataframe\">\n",
       "  <thead>\n",
       "    <tr style=\"text-align: right;\">\n",
       "      <th></th>\n",
       "      <th>date</th>\n",
       "      <th>type</th>\n",
       "      <th>locale</th>\n",
       "      <th>locale_name</th>\n",
       "      <th>description</th>\n",
       "    </tr>\n",
       "  </thead>\n",
       "  <tbody>\n",
       "    <tr>\n",
       "      <th>0</th>\n",
       "      <td>2012-03-02</td>\n",
       "      <td>Holiday</td>\n",
       "      <td>Local</td>\n",
       "      <td>Manta</td>\n",
       "      <td>Fundacion de Manta</td>\n",
       "    </tr>\n",
       "    <tr>\n",
       "      <th>1</th>\n",
       "      <td>2012-04-01</td>\n",
       "      <td>Holiday</td>\n",
       "      <td>Regional</td>\n",
       "      <td>Cotopaxi</td>\n",
       "      <td>Provincializacion de Cotopaxi</td>\n",
       "    </tr>\n",
       "    <tr>\n",
       "      <th>2</th>\n",
       "      <td>2012-04-12</td>\n",
       "      <td>Holiday</td>\n",
       "      <td>Local</td>\n",
       "      <td>Cuenca</td>\n",
       "      <td>Fundacion de Cuenca</td>\n",
       "    </tr>\n",
       "    <tr>\n",
       "      <th>3</th>\n",
       "      <td>2012-04-14</td>\n",
       "      <td>Holiday</td>\n",
       "      <td>Local</td>\n",
       "      <td>Libertad</td>\n",
       "      <td>Cantonizacion de Libertad</td>\n",
       "    </tr>\n",
       "    <tr>\n",
       "      <th>4</th>\n",
       "      <td>2012-04-21</td>\n",
       "      <td>Holiday</td>\n",
       "      <td>Local</td>\n",
       "      <td>Riobamba</td>\n",
       "      <td>Cantonizacion de Riobamba</td>\n",
       "    </tr>\n",
       "    <tr>\n",
       "      <th>...</th>\n",
       "      <td>...</td>\n",
       "      <td>...</td>\n",
       "      <td>...</td>\n",
       "      <td>...</td>\n",
       "      <td>...</td>\n",
       "    </tr>\n",
       "    <tr>\n",
       "      <th>345</th>\n",
       "      <td>2017-12-22</td>\n",
       "      <td>Holiday</td>\n",
       "      <td>National</td>\n",
       "      <td>Ecuador</td>\n",
       "      <td>Navidad-3</td>\n",
       "    </tr>\n",
       "    <tr>\n",
       "      <th>346</th>\n",
       "      <td>2017-12-23</td>\n",
       "      <td>Holiday</td>\n",
       "      <td>National</td>\n",
       "      <td>Ecuador</td>\n",
       "      <td>Navidad-2</td>\n",
       "    </tr>\n",
       "    <tr>\n",
       "      <th>347</th>\n",
       "      <td>2017-12-24</td>\n",
       "      <td>Holiday</td>\n",
       "      <td>National</td>\n",
       "      <td>Ecuador</td>\n",
       "      <td>Navidad-1</td>\n",
       "    </tr>\n",
       "    <tr>\n",
       "      <th>348</th>\n",
       "      <td>2017-12-25</td>\n",
       "      <td>Holiday</td>\n",
       "      <td>National</td>\n",
       "      <td>Ecuador</td>\n",
       "      <td>Navidad</td>\n",
       "    </tr>\n",
       "    <tr>\n",
       "      <th>349</th>\n",
       "      <td>2017-12-26</td>\n",
       "      <td>Holiday</td>\n",
       "      <td>National</td>\n",
       "      <td>Ecuador</td>\n",
       "      <td>Navidad+1</td>\n",
       "    </tr>\n",
       "  </tbody>\n",
       "</table>\n",
       "<p>350 rows × 5 columns</p>\n",
       "</div>"
      ],
      "text/plain": [
       "          date     type    locale locale_name                    description\n",
       "0   2012-03-02  Holiday     Local       Manta             Fundacion de Manta\n",
       "1   2012-04-01  Holiday  Regional    Cotopaxi  Provincializacion de Cotopaxi\n",
       "2   2012-04-12  Holiday     Local      Cuenca            Fundacion de Cuenca\n",
       "3   2012-04-14  Holiday     Local    Libertad      Cantonizacion de Libertad\n",
       "4   2012-04-21  Holiday     Local    Riobamba      Cantonizacion de Riobamba\n",
       "..         ...      ...       ...         ...                            ...\n",
       "345 2017-12-22  Holiday  National     Ecuador                      Navidad-3\n",
       "346 2017-12-23  Holiday  National     Ecuador                      Navidad-2\n",
       "347 2017-12-24  Holiday  National     Ecuador                      Navidad-1\n",
       "348 2017-12-25  Holiday  National     Ecuador                        Navidad\n",
       "349 2017-12-26  Holiday  National     Ecuador                      Navidad+1\n",
       "\n",
       "[350 rows x 5 columns]"
      ]
     },
     "execution_count": 18,
     "metadata": {},
     "output_type": "execute_result"
    }
   ],
   "source": [
    "holiday"
   ]
  },
  {
   "cell_type": "code",
   "execution_count": 19,
   "id": "cd424f6a",
   "metadata": {
    "execution": {
     "iopub.execute_input": "2024-02-10T15:10:55.041044Z",
     "iopub.status.busy": "2024-02-10T15:10:55.040345Z",
     "iopub.status.idle": "2024-02-10T15:10:55.063776Z",
     "shell.execute_reply": "2024-02-10T15:10:55.062623Z"
    },
    "papermill": {
     "duration": 0.045786,
     "end_time": "2024-02-10T15:10:55.066586",
     "exception": false,
     "start_time": "2024-02-10T15:10:55.020800",
     "status": "completed"
    },
    "tags": []
   },
   "outputs": [],
   "source": [
    "work_day = holiday[holiday.type == \"Work Day\"]  \n",
    "holiday = holiday[holiday.type != \"Work Day\"]  \n",
    "events = holiday[holiday.type == \"Event\"].drop([\"type\", \"locale\", \"locale_name\"], axis = 1).rename({\"description\":\"events\"}, axis = 1)\n",
    "\n",
    "\n",
    "\n",
    "holiday = holiday[holiday.type != \"Event\"].drop(\"type\", axis = 1)\n",
    "regional = holiday[holiday.locale == \"Regional\"].rename({\"locale_name\":\"state\", \"description\":\"holiday_regional\"}, axis = 1).drop(\"locale\", axis = 1).drop_duplicates()\n",
    "national = holiday[holiday.locale == \"National\"].rename({\"description\":\"holiday_national\"}, axis = 1).drop([\"locale\", \"locale_name\"], axis = 1).drop_duplicates()\n",
    "local = holiday[holiday.locale == \"Local\"].rename({\"description\":\"holiday_local\", \"locale_name\":\"city\"}, axis = 1).drop(\"locale\", axis = 1).drop_duplicates()\n"
   ]
  },
  {
   "cell_type": "code",
   "execution_count": 20,
   "id": "2a94117e",
   "metadata": {
    "execution": {
     "iopub.execute_input": "2024-02-10T15:10:55.105362Z",
     "iopub.status.busy": "2024-02-10T15:10:55.104951Z",
     "iopub.status.idle": "2024-02-10T15:10:55.121552Z",
     "shell.execute_reply": "2024-02-10T15:10:55.120439Z"
    },
    "papermill": {
     "duration": 0.03906,
     "end_time": "2024-02-10T15:10:55.123976",
     "exception": false,
     "start_time": "2024-02-10T15:10:55.084916",
     "status": "completed"
    },
    "tags": []
   },
   "outputs": [],
   "source": [
    "events[\"events\"] =np.where(events.events.str.contains(\"futbol\"), \"Futbol\", events.events)\n",
    "events[\"events\"] =np.where(events.events.str.contains(\"futbol\"), \"Futbol\", events.events)\n",
    "\n",
    "def my_one_hot_encoder(df, nan_as_category=True):\n",
    "    original_columns = list(df.columns)\n",
    "    categorical_columns = df.select_dtypes([\"category\", \"object\"]).columns.tolist()\n",
    "    # categorical_columns = [col for col in df.columns if df[col].dtype == 'object']\n",
    "    df = pd.get_dummies(df, columns=categorical_columns, dummy_na=nan_as_category)\n",
    "    new_columns = [c for c in df.columns if c not in original_columns]\n",
    "    df.columns = df.columns.str.replace(\" \", \"_\")\n",
    "    return df, df.columns.tolist()\n",
    "\n",
    "events, events_cat = my_one_hot_encoder(events, nan_as_category=False)\n",
    "\n",
    "events[\"events_Dia_de_la_Madre\"] = np.where(events.date == \"2016-05-08\", 1,events[\"events_Dia_de_la_Madre\"])\n",
    "events = events.drop(239)\n",
    "\n"
   ]
  },
  {
   "cell_type": "code",
   "execution_count": 21,
   "id": "217755e9",
   "metadata": {},
   "outputs": [
    {
     "data": {
      "text/html": [
       "<div>\n",
       "<style scoped>\n",
       "    .dataframe tbody tr th:only-of-type {\n",
       "        vertical-align: middle;\n",
       "    }\n",
       "\n",
       "    .dataframe tbody tr th {\n",
       "        vertical-align: top;\n",
       "    }\n",
       "\n",
       "    .dataframe thead th {\n",
       "        text-align: right;\n",
       "    }\n",
       "</style>\n",
       "<table border=\"1\" class=\"dataframe\">\n",
       "  <thead>\n",
       "    <tr style=\"text-align: right;\">\n",
       "      <th></th>\n",
       "      <th>date</th>\n",
       "      <th>holiday_national</th>\n",
       "    </tr>\n",
       "  </thead>\n",
       "  <tbody>\n",
       "    <tr>\n",
       "      <th>14</th>\n",
       "      <td>2012-08-10</td>\n",
       "      <td>Primer Grito de Independencia</td>\n",
       "    </tr>\n",
       "    <tr>\n",
       "      <th>19</th>\n",
       "      <td>2012-10-09</td>\n",
       "      <td>Independencia de Guayaquil</td>\n",
       "    </tr>\n",
       "    <tr>\n",
       "      <th>20</th>\n",
       "      <td>2012-10-12</td>\n",
       "      <td>Traslado Independencia de Guayaquil</td>\n",
       "    </tr>\n",
       "    <tr>\n",
       "      <th>21</th>\n",
       "      <td>2012-11-02</td>\n",
       "      <td>Dia de Difuntos</td>\n",
       "    </tr>\n",
       "    <tr>\n",
       "      <th>22</th>\n",
       "      <td>2012-11-03</td>\n",
       "      <td>Independencia de Cuenca</td>\n",
       "    </tr>\n",
       "    <tr>\n",
       "      <th>...</th>\n",
       "      <td>...</td>\n",
       "      <td>...</td>\n",
       "    </tr>\n",
       "    <tr>\n",
       "      <th>345</th>\n",
       "      <td>2017-12-22</td>\n",
       "      <td>Navidad-3</td>\n",
       "    </tr>\n",
       "    <tr>\n",
       "      <th>346</th>\n",
       "      <td>2017-12-23</td>\n",
       "      <td>Navidad-2</td>\n",
       "    </tr>\n",
       "    <tr>\n",
       "      <th>347</th>\n",
       "      <td>2017-12-24</td>\n",
       "      <td>Navidad-1</td>\n",
       "    </tr>\n",
       "    <tr>\n",
       "      <th>348</th>\n",
       "      <td>2017-12-25</td>\n",
       "      <td>Navidad</td>\n",
       "    </tr>\n",
       "    <tr>\n",
       "      <th>349</th>\n",
       "      <td>2017-12-26</td>\n",
       "      <td>Navidad+1</td>\n",
       "    </tr>\n",
       "  </tbody>\n",
       "</table>\n",
       "<p>113 rows × 2 columns</p>\n",
       "</div>"
      ],
      "text/plain": [
       "          date                     holiday_national\n",
       "14  2012-08-10        Primer Grito de Independencia\n",
       "19  2012-10-09           Independencia de Guayaquil\n",
       "20  2012-10-12  Traslado Independencia de Guayaquil\n",
       "21  2012-11-02                      Dia de Difuntos\n",
       "22  2012-11-03              Independencia de Cuenca\n",
       "..         ...                                  ...\n",
       "345 2017-12-22                            Navidad-3\n",
       "346 2017-12-23                            Navidad-2\n",
       "347 2017-12-24                            Navidad-1\n",
       "348 2017-12-25                              Navidad\n",
       "349 2017-12-26                            Navidad+1\n",
       "\n",
       "[113 rows x 2 columns]"
      ]
     },
     "execution_count": 21,
     "metadata": {},
     "output_type": "execute_result"
    }
   ],
   "source": [
    "national"
   ]
  },
  {
   "cell_type": "code",
   "execution_count": 23,
   "id": "c75528c9",
   "metadata": {},
   "outputs": [
    {
     "data": {
      "text/plain": [
       "date\n",
       "2012-12-24    2\n",
       "2012-12-31    2\n",
       "2014-12-26    2\n",
       "Name: date, dtype: int64"
      ]
     },
     "execution_count": 23,
     "metadata": {},
     "output_type": "execute_result"
    }
   ],
   "source": [
    "national.groupby(['date']).date.count()[national.groupby(['date']).date.count()>1]"
   ]
  },
  {
   "cell_type": "code",
   "execution_count": 33,
   "id": "abe9a06b",
   "metadata": {},
   "outputs": [
    {
     "data": {
      "text/html": [
       "<div>\n",
       "<style scoped>\n",
       "    .dataframe tbody tr th:only-of-type {\n",
       "        vertical-align: middle;\n",
       "    }\n",
       "\n",
       "    .dataframe tbody tr th {\n",
       "        vertical-align: top;\n",
       "    }\n",
       "\n",
       "    .dataframe thead th {\n",
       "        text-align: right;\n",
       "    }\n",
       "</style>\n",
       "<table border=\"1\" class=\"dataframe\">\n",
       "  <thead>\n",
       "    <tr style=\"text-align: right;\">\n",
       "      <th></th>\n",
       "      <th>date</th>\n",
       "      <th>holiday_national</th>\n",
       "    </tr>\n",
       "  </thead>\n",
       "  <tbody>\n",
       "    <tr>\n",
       "      <th>156</th>\n",
       "      <td>2014-12-26</td>\n",
       "      <td>Navidad</td>\n",
       "    </tr>\n",
       "    <tr>\n",
       "      <th>157</th>\n",
       "      <td>2014-12-26</td>\n",
       "      <td>Navidad+1</td>\n",
       "    </tr>\n",
       "  </tbody>\n",
       "</table>\n",
       "</div>"
      ],
      "text/plain": [
       "          date holiday_national\n",
       "156 2014-12-26          Navidad\n",
       "157 2014-12-26        Navidad+1"
      ]
     },
     "execution_count": 33,
     "metadata": {},
     "output_type": "execute_result"
    }
   ],
   "source": [
    "national[national['date']=='2014-12-26']"
   ]
  },
  {
   "cell_type": "code",
   "execution_count": 34,
   "id": "b67d4309",
   "metadata": {},
   "outputs": [],
   "source": [
    "national.drop(index=[35,39,156],inplace=True)"
   ]
  },
  {
   "cell_type": "code",
   "execution_count": 35,
   "id": "77e1c65e",
   "metadata": {},
   "outputs": [
    {
     "name": "stdout",
     "output_type": "stream",
     "text": [
      "3000888\n",
      "3000888\n",
      "3000888\n"
     ]
    }
   ],
   "source": [
    "print(len(train))\n",
    "df = pd.merge(train, store,how = \"left\", on = [\"store_nbr\"])\n",
    "df[\"store_nbr\"] = df[\"store_nbr\"].astype(\"int8\")\n",
    "print(len(df))\n",
    "\n",
    "df = pd.merge(df, national, how = \"left\",on = [\"date\"])\n",
    "print(len(df))"
   ]
  },
  {
   "cell_type": "code",
   "execution_count": 38,
   "id": "c7dedfee",
   "metadata": {},
   "outputs": [
    {
     "name": "stdout",
     "output_type": "stream",
     "text": [
      "3000888\n"
     ]
    }
   ],
   "source": [
    "# Regional\n",
    "df = pd.merge(df, regional, how = \"left\", on = [\"date\", \"state\"])\n",
    "print(len(df))"
   ]
  },
  {
   "cell_type": "code",
   "execution_count": 44,
   "id": "eecc5e1c",
   "metadata": {},
   "outputs": [
    {
     "data": {
      "text/plain": [
       "date        city     \n",
       "2016-07-24  Guayaquil    2\n",
       "Name: date, dtype: int64"
      ]
     },
     "execution_count": 44,
     "metadata": {},
     "output_type": "execute_result"
    }
   ],
   "source": [
    "local.groupby(['date','city']).date.count()[local.groupby(['date','city']).date.count()>1]"
   ]
  },
  {
   "cell_type": "code",
   "execution_count": 46,
   "id": "e29526f5",
   "metadata": {},
   "outputs": [
    {
     "data": {
      "text/html": [
       "<div>\n",
       "<style scoped>\n",
       "    .dataframe tbody tr th:only-of-type {\n",
       "        vertical-align: middle;\n",
       "    }\n",
       "\n",
       "    .dataframe tbody tr th {\n",
       "        vertical-align: top;\n",
       "    }\n",
       "\n",
       "    .dataframe thead th {\n",
       "        text-align: right;\n",
       "    }\n",
       "</style>\n",
       "<table border=\"1\" class=\"dataframe\">\n",
       "  <thead>\n",
       "    <tr style=\"text-align: right;\">\n",
       "      <th></th>\n",
       "      <th>date</th>\n",
       "      <th>city</th>\n",
       "      <th>holiday_local</th>\n",
       "    </tr>\n",
       "  </thead>\n",
       "  <tbody>\n",
       "    <tr>\n",
       "      <th>264</th>\n",
       "      <td>2016-07-24</td>\n",
       "      <td>Guayaquil</td>\n",
       "      <td>Fundacion de Guayaquil-1</td>\n",
       "    </tr>\n",
       "    <tr>\n",
       "      <th>265</th>\n",
       "      <td>2016-07-24</td>\n",
       "      <td>Guayaquil</td>\n",
       "      <td>Traslado Fundacion de Guayaquil</td>\n",
       "    </tr>\n",
       "  </tbody>\n",
       "</table>\n",
       "</div>"
      ],
      "text/plain": [
       "          date       city                    holiday_local\n",
       "264 2016-07-24  Guayaquil         Fundacion de Guayaquil-1\n",
       "265 2016-07-24  Guayaquil  Traslado Fundacion de Guayaquil"
      ]
     },
     "execution_count": 46,
     "metadata": {},
     "output_type": "execute_result"
    }
   ],
   "source": [
    "local[local['date']=='2016-07-24']"
   ]
  },
  {
   "cell_type": "code",
   "execution_count": 50,
   "id": "dd195abf",
   "metadata": {},
   "outputs": [],
   "source": [
    "local.drop(index=[265],inplace=True)"
   ]
  },
  {
   "cell_type": "code",
   "execution_count": 49,
   "id": "44be39db",
   "metadata": {},
   "outputs": [
    {
     "data": {
      "text/html": [
       "<div>\n",
       "<style scoped>\n",
       "    .dataframe tbody tr th:only-of-type {\n",
       "        vertical-align: middle;\n",
       "    }\n",
       "\n",
       "    .dataframe tbody tr th {\n",
       "        vertical-align: top;\n",
       "    }\n",
       "\n",
       "    .dataframe thead th {\n",
       "        text-align: right;\n",
       "    }\n",
       "</style>\n",
       "<table border=\"1\" class=\"dataframe\">\n",
       "  <thead>\n",
       "    <tr style=\"text-align: right;\">\n",
       "      <th></th>\n",
       "      <th>date</th>\n",
       "      <th>city</th>\n",
       "      <th>holiday_local</th>\n",
       "    </tr>\n",
       "  </thead>\n",
       "  <tbody>\n",
       "    <tr>\n",
       "      <th>65</th>\n",
       "      <td>2013-07-25</td>\n",
       "      <td>Guayaquil</td>\n",
       "      <td>Fundacion de Guayaquil</td>\n",
       "    </tr>\n",
       "    <tr>\n",
       "      <th>128</th>\n",
       "      <td>2014-07-25</td>\n",
       "      <td>Guayaquil</td>\n",
       "      <td>Fundacion de Guayaquil</td>\n",
       "    </tr>\n",
       "    <tr>\n",
       "      <th>183</th>\n",
       "      <td>2015-07-25</td>\n",
       "      <td>Guayaquil</td>\n",
       "      <td>Fundacion de Guayaquil</td>\n",
       "    </tr>\n",
       "    <tr>\n",
       "      <th>266</th>\n",
       "      <td>2016-07-25</td>\n",
       "      <td>Guayaquil</td>\n",
       "      <td>Fundacion de Guayaquil</td>\n",
       "    </tr>\n",
       "    <tr>\n",
       "      <th>322</th>\n",
       "      <td>2017-07-25</td>\n",
       "      <td>Guayaquil</td>\n",
       "      <td>Fundacion de Guayaquil</td>\n",
       "    </tr>\n",
       "  </tbody>\n",
       "</table>\n",
       "</div>"
      ],
      "text/plain": [
       "          date       city           holiday_local\n",
       "65  2013-07-25  Guayaquil  Fundacion de Guayaquil\n",
       "128 2014-07-25  Guayaquil  Fundacion de Guayaquil\n",
       "183 2015-07-25  Guayaquil  Fundacion de Guayaquil\n",
       "266 2016-07-25  Guayaquil  Fundacion de Guayaquil\n",
       "322 2017-07-25  Guayaquil  Fundacion de Guayaquil"
      ]
     },
     "execution_count": 49,
     "metadata": {},
     "output_type": "execute_result"
    }
   ],
   "source": [
    "local[local['holiday_local'] == 'Fundacion de Guayaquil']"
   ]
  },
  {
   "cell_type": "code",
   "execution_count": 51,
   "id": "021c76a4",
   "metadata": {},
   "outputs": [
    {
     "name": "stdout",
     "output_type": "stream",
     "text": [
      "3000888\n"
     ]
    }
   ],
   "source": [
    "# Local\n",
    "df = pd.merge(df, local, how = \"left\", on = [\"date\", \"city\"])\n",
    "print(len(df))"
   ]
  },
  {
   "cell_type": "code",
   "execution_count": 54,
   "id": "f239d3b3",
   "metadata": {},
   "outputs": [
    {
     "name": "stdout",
     "output_type": "stream",
     "text": [
      "3000888\n"
     ]
    }
   ],
   "source": [
    "df = pd.merge(df,work_day[[\"date\", \"type\"]].rename({\"type\":\"IsWorkDay\"}, axis = 1),how = \"left\")\n",
    "print(len(df))"
   ]
  },
  {
   "cell_type": "code",
   "execution_count": 56,
   "id": "2bf8ccb4",
   "metadata": {},
   "outputs": [
    {
     "data": {
      "text/plain": [
       "date\n",
       "2016-05-08    2\n",
       "Name: date, dtype: int64"
      ]
     },
     "execution_count": 56,
     "metadata": {},
     "output_type": "execute_result"
    }
   ],
   "source": [
    "events.groupby(['date']).date.count()[events.groupby(['date']).date.count()>1]"
   ]
  },
  {
   "cell_type": "code",
   "execution_count": 73,
   "id": "1a348bf5",
   "metadata": {},
   "outputs": [],
   "source": [
    "events[events['date']=='2016-05-08']\n",
    "events.drop(index=[245],inplace=True)"
   ]
  },
  {
   "cell_type": "code",
   "execution_count": 75,
   "id": "dfd3ad59",
   "metadata": {},
   "outputs": [
    {
     "name": "stdout",
     "output_type": "stream",
     "text": [
      "3000888\n"
     ]
    }
   ],
   "source": [
    "df = pd.merge(df, events, how = \"left\")\n",
    "df[events_cat] = df[events_cat].fillna(0)\n",
    "print(len(df))"
   ]
  },
  {
   "cell_type": "code",
   "execution_count": 28,
   "id": "5fee07f7",
   "metadata": {
    "execution": {
     "iopub.execute_input": "2024-02-10T15:10:55.162097Z",
     "iopub.status.busy": "2024-02-10T15:10:55.161703Z",
     "iopub.status.idle": "2024-02-10T15:12:09.382745Z",
     "shell.execute_reply": "2024-02-10T15:12:09.381478Z"
    },
    "papermill": {
     "duration": 74.261983,
     "end_time": "2024-02-10T15:12:09.404289",
     "exception": false,
     "start_time": "2024-02-10T15:10:55.142306",
     "status": "completed"
    },
    "tags": []
   },
   "outputs": [
    {
     "name": "stdout",
     "output_type": "stream",
     "text": [
      "3000888\n",
      "3000888\n",
      "3002670\n",
      "3002670\n",
      "3002934\n",
      "3002934\n",
      "3004716\n"
     ]
    }
   ],
   "source": [
    "\n",
    "\n",
    "# Regional\n",
    "df = pd.merge(df, regional, how = \"left\", on = [\"date\", \"state\"])\n",
    "print(len(df))\n",
    "\n",
    "# Local\n",
    "df = pd.merge(df, local, how = \"left\", on = [\"date\", \"city\"])\n",
    "print(len(df))\n",
    "df = pd.merge(df,work_day[[\"date\", \"type\"]].rename({\"type\":\"IsWorkDay\"}, axis = 1),how = \"left\")\n",
    "print(len(df))\n",
    "\n",
    "df = pd.merge(df, events, how = \"left\")\n",
    "df[events_cat] = df[events_cat].fillna(0)\n",
    "print(len(df))\n"
   ]
  },
  {
   "cell_type": "markdown",
   "id": "83ad3ee3",
   "metadata": {
    "papermill": {
     "duration": 0.019115,
     "end_time": "2024-02-10T15:12:09.443477",
     "exception": false,
     "start_time": "2024-02-10T15:12:09.424362",
     "status": "completed"
    },
    "tags": []
   },
   "source": [
    "משהו בחיבור שעשיתי לא עובד טוב, נוספו שורות ויש איחודים מוזרים"
   ]
  },
  {
   "cell_type": "code",
   "execution_count": 76,
   "id": "40c66a31",
   "metadata": {
    "execution": {
     "iopub.execute_input": "2024-02-10T15:12:09.484837Z",
     "iopub.status.busy": "2024-02-10T15:12:09.484386Z",
     "iopub.status.idle": "2024-02-10T15:12:12.300967Z",
     "shell.execute_reply": "2024-02-10T15:12:12.299898Z"
    },
    "papermill": {
     "duration": 2.841081,
     "end_time": "2024-02-10T15:12:12.303798",
     "exception": false,
     "start_time": "2024-02-10T15:12:09.462717",
     "status": "completed"
    },
    "tags": []
   },
   "outputs": [],
   "source": [
    "\n",
    "# New features\n",
    "df[\"holiday_national_binary\"] = np.where(df.holiday_national.notnull(), 1, 0)\n",
    "df[\"holiday_local_binary\"] = np.where(df.holiday_local.notnull(), 1, 0)\n",
    "df[\"holiday_regional_binary\"] = np.where(df.holiday_regional.notnull(), 1, 0)\n",
    "\n",
    "# \n",
    "df[\"national_independence\"] = np.where(df.holiday_national.isin(['Batalla de Pichincha',  'Independencia de Cuenca', 'Independencia de Guayaquil', 'Independencia de Guayaquil', 'Primer Grito de Independencia']), 1, 0)\n",
    "df[\"local_cantonizacio\"] = np.where(df.holiday_local.str.contains(\"Cantonizacio\"), 1, 0)\n",
    "df[\"local_fundacion\"] = np.where(df.holiday_local.str.contains(\"Fundacion\"), 1, 0)\n",
    "df[\"local_independencia\"] = np.where(df.holiday_local.str.contains(\"Independencia\"), 1, 0)\n",
    "\n",
    "\n"
   ]
  },
  {
   "cell_type": "code",
   "execution_count": 79,
   "id": "6fd3089a",
   "metadata": {
    "execution": {
     "iopub.execute_input": "2024-02-10T15:12:12.344738Z",
     "iopub.status.busy": "2024-02-10T15:12:12.344347Z",
     "iopub.status.idle": "2024-02-10T15:12:12.354748Z",
     "shell.execute_reply": "2024-02-10T15:12:12.353704Z"
    },
    "papermill": {
     "duration": 0.033531,
     "end_time": "2024-02-10T15:12:12.357074",
     "exception": false,
     "start_time": "2024-02-10T15:12:12.323543",
     "status": "completed"
    },
    "tags": []
   },
   "outputs": [
    {
     "data": {
      "text/plain": [
       "0.050475059382422804"
      ]
     },
     "execution_count": 79,
     "metadata": {},
     "output_type": "execute_result"
    }
   ],
   "source": [
    "df.holiday_national_binary.mean() "
   ]
  },
  {
   "cell_type": "code",
   "execution_count": 27,
   "id": "39ed3f57",
   "metadata": {
    "execution": {
     "iopub.execute_input": "2024-02-10T15:12:12.397296Z",
     "iopub.status.busy": "2024-02-10T15:12:12.396900Z",
     "iopub.status.idle": "2024-02-10T15:12:12.402086Z",
     "shell.execute_reply": "2024-02-10T15:12:12.400898Z"
    },
    "papermill": {
     "duration": 0.028308,
     "end_time": "2024-02-10T15:12:12.404498",
     "exception": false,
     "start_time": "2024-02-10T15:12:12.376190",
     "status": "completed"
    },
    "tags": []
   },
   "outputs": [],
   "source": [
    "#holidays, holidays_cat = one_hot_encoder(df[[\"holiday_national\",\"holiday_regional\",\"holiday_local\"]], nan_as_category=False)\n",
    "#df = pd.concat([df.drop([\"holiday_national\",\"holiday_regional\",\"holiday_local\"], axis = 1),holidays], axis = 1)\n",
    "\n",
    "#he_cols = df.columns[df.columns.str.startswith(\"events\")].tolist() + df.columns[df.columns.str.startswith(\"holiday\")].tolist() + df.columns[df.columns.str.startswith(\"national\")].tolist()+ df.columns[df.columns.str.startswith(\"local\")].tolist()\n",
    "#df[he_cols] = df[he_cols].astype(\"int8\")\n",
    "\n",
    "#d[[\"family\", \"city\", \"state\", \"type\"]] = d[[\"family\", \"city\", \"state\", \"type\"]].astype(\"category\")\n",
    "\n",
    "#del holidays, holidays_cat, work_day, local, regional, national, events, events_cat, tr, tr1, tr2, he_cols\n",
    "#gc.collect()\n",
    "\n",
    "#df.head(10)"
   ]
  },
  {
   "cell_type": "code",
   "execution_count": 28,
   "id": "e6c631f3",
   "metadata": {
    "execution": {
     "iopub.execute_input": "2024-02-10T15:12:12.444844Z",
     "iopub.status.busy": "2024-02-10T15:12:12.444418Z",
     "iopub.status.idle": "2024-02-10T15:12:12.449867Z",
     "shell.execute_reply": "2024-02-10T15:12:12.448676Z"
    },
    "papermill": {
     "duration": 0.028258,
     "end_time": "2024-02-10T15:12:12.452124",
     "exception": false,
     "start_time": "2024-02-10T15:12:12.423866",
     "status": "completed"
    },
    "tags": []
   },
   "outputs": [],
   "source": [
    "citys = list(store['city'].unique())"
   ]
  },
  {
   "cell_type": "code",
   "execution_count": 29,
   "id": "172384df",
   "metadata": {
    "execution": {
     "iopub.execute_input": "2024-02-10T15:12:12.492424Z",
     "iopub.status.busy": "2024-02-10T15:12:12.491977Z",
     "iopub.status.idle": "2024-02-10T15:12:12.497392Z",
     "shell.execute_reply": "2024-02-10T15:12:12.496273Z"
    },
    "papermill": {
     "duration": 0.028157,
     "end_time": "2024-02-10T15:12:12.499649",
     "exception": false,
     "start_time": "2024-02-10T15:12:12.471492",
     "status": "completed"
    },
    "tags": []
   },
   "outputs": [],
   "source": [
    "locales = list(holiday['locale_name'].unique())"
   ]
  },
  {
   "cell_type": "code",
   "execution_count": 30,
   "id": "752d634b",
   "metadata": {
    "execution": {
     "iopub.execute_input": "2024-02-10T15:12:12.539843Z",
     "iopub.status.busy": "2024-02-10T15:12:12.539435Z",
     "iopub.status.idle": "2024-02-10T15:12:12.545822Z",
     "shell.execute_reply": "2024-02-10T15:12:12.544695Z"
    },
    "papermill": {
     "duration": 0.029109,
     "end_time": "2024-02-10T15:12:12.548080",
     "exception": false,
     "start_time": "2024-02-10T15:12:12.518971",
     "status": "completed"
    },
    "tags": []
   },
   "outputs": [],
   "source": [
    "city_only = []\n",
    "local_only = []\n",
    "for city in citys:\n",
    "    if city not in locales:\n",
    "        city_only.append(city)\n",
    "for locl in locales:\n",
    "    if locl not in citys:\n",
    "        local_only.append(locl)"
   ]
  },
  {
   "cell_type": "markdown",
   "id": "e66c8adf",
   "metadata": {
    "papermill": {
     "duration": 0.019001,
     "end_time": "2024-02-10T15:12:12.586511",
     "exception": false,
     "start_time": "2024-02-10T15:12:12.567510",
     "status": "completed"
    },
    "tags": []
   },
   "source": [
    "יש כמה ערים שאין להם חג ייעודי, וכמה חגים מקומיים שלא שייכים לאף מקום"
   ]
  },
  {
   "cell_type": "markdown",
   "id": "28f86754",
   "metadata": {
    "papermill": {
     "duration": 0.019148,
     "end_time": "2024-02-10T15:12:12.625399",
     "exception": false,
     "start_time": "2024-02-10T15:12:12.606251",
     "status": "completed"
    },
    "tags": []
   },
   "source": [
    "ראיתי שבהרבה מחברות \"מאחדים\" בין סוגי החגים השונים, אני לא בטוח שזה נכון. יש מצב שביום החג עצמו עושים ארוחה משפחתית ללא תלות בהגדרה של החג (למשל), בנוסף המועד האמיתי של החג יכול להשפיע על \n",
    "סוגיות של אספקה\n",
    "\n",
    "צריך לעשות בדיקה אל מול הנתונים"
   ]
  },
  {
   "cell_type": "markdown",
   "id": "1de4edc8",
   "metadata": {
    "papermill": {
     "duration": 0.019516,
     "end_time": "2024-02-10T15:12:12.665163",
     "exception": false,
     "start_time": "2024-02-10T15:12:12.645647",
     "status": "completed"
    },
    "tags": []
   },
   "source": [
    "ביקשתי מצאט גיפיטי לייצר לי רשימה עם חגים שרלוונטיים לכל מדינה ולכל עיר. אחרי זה אני אאחד את הרשימות כך שלכל עיר יופיע גם אלו של המדינה שלה, ואז אם החג הוא לוקאלי - ניתן אותו רק למי שרלוונטי"
   ]
  },
  {
   "cell_type": "code",
   "execution_count": 31,
   "id": "0e5a3e32",
   "metadata": {
    "execution": {
     "iopub.execute_input": "2024-02-10T15:12:12.707886Z",
     "iopub.status.busy": "2024-02-10T15:12:12.707480Z",
     "iopub.status.idle": "2024-02-10T15:12:12.833728Z",
     "shell.execute_reply": "2024-02-10T15:12:12.832479Z"
    },
    "papermill": {
     "duration": 0.151073,
     "end_time": "2024-02-10T15:12:12.836004",
     "exception": false,
     "start_time": "2024-02-10T15:12:12.684931",
     "status": "completed"
    },
    "tags": []
   },
   "outputs": [],
   "source": [
    "state_holidays_dict ={\n",
    "    'Pichincha': [\n",
    "        'Fundacion de Quito', 'Fundacion de Quito-1', 'Puente Dia de Difuntos',\n",
    "        'Recupero Puente Dia de Difuntos', 'Traslado Fundacion de Quito',\n",
    "        'Mundial de futbol Brasil: Ecuador-Suiza', 'Mundial de futbol Brasil: Ecuador-Honduras',\n",
    "        'Mundial de futbol Brasil: Ecuador-Francia', 'Mundial de futbol Brasil: Octavos de Final',\n",
    "        'Mundial de futbol Brasil: Cuartos de Final', 'Mundial de futbol Brasil: Semifinales',\n",
    "        'Mundial de futbol Brasil: Tercer y cuarto lugar', 'Mundial de futbol Brasil: Final',\n",
    "        'Navidad-4', 'Navidad-3', 'Navidad-2', 'Puente Navidad', 'Navidad-1', 'Navidad', 'Navidad+1'\n",
    "    ],\n",
    "    'Santo Domingo de los Tsachilas': [\n",
    "        'Fundacion de Santo Domingo', 'Provincializacion de Santo Domingo',\n",
    "        'Traslado Fundacion de Santo Domingo'\n",
    "    ],\n",
    "    'Cotopaxi': [\n",
    "        'Provincializacion de Cotopaxi', 'Cantonizacion de Latacunga', 'Independencia de Latacunga',\n",
    "        'Puente Dia de Difuntos', 'Recupero Puente Dia de Difuntos', 'Traslado Primer dia del ano'\n",
    "    ],\n",
    "    'Chimborazo': [\n",
    "        'Cantonizacion de Riobamba', 'Fundacion de Riobamba', 'Independencia de Ambato',\n",
    "        'Traslado Batalla de Pichincha', 'Traslado Fundacion de Guayaquil',\n",
    "        'Traslado Primer Grito de Independencia'\n",
    "    ],\n",
    "    'Imbabura': [\n",
    "        'Provincializacion de Imbabura', 'Cantonizacion de Ibarra', 'Dia de Difuntos',\n",
    "        'Recupero Puente Dia de Difuntos', 'Traslado Primer dia del ano'\n",
    "    ],\n",
    "    'Bolivar': [\n",
    "        'Cantonizacion de Guaranda', 'Independencia de Guaranda'\n",
    "    ],\n",
    "    'Pastaza': [\n",
    "        'Cantonizacion del Puyo'\n",
    "    ],\n",
    "    'Tungurahua': [\n",
    "        'Fundacion de Ambato', 'Independencia de Ambato', 'Puente Dia de Difuntos',\n",
    "        'Recupero Puente Dia de Difuntos', 'Traslado Primer dia del ano'\n",
    "    ],\n",
    "    'Guayas': [\n",
    "        'Fundacion de Guayaquil', 'Cantonizacion de Libertad', 'Cantonizacion de El Carmen',\n",
    "        'Cantonizacion de Quevedo', 'Independencia de Guayaquil', 'Traslado Independencia de Guayaquil',\n",
    "        'Navidad-4', 'Navidad-3', 'Navidad-2', 'Puente Navidad', 'Navidad-1', 'Navidad', 'Navidad+1'\n",
    "    ],\n",
    "    'Santa Elena': [\n",
    "        'Provincializacion Santa Elena', 'Cantonizacion de Salinas', 'Puente Dia de Difuntos',\n",
    "        'Recupero Puente Dia de Difuntos', 'Traslado Primer dia del ano'\n",
    "    ],\n",
    "    'Los Rios': [\n",
    "        'Cantonizacion de Quevedo', 'Dia de la Madre'\n",
    "    ],\n",
    "    'Azuay': [\n",
    "        'Independencia de Cuenca', 'Dia de la Madre-1'\n",
    "    ],\n",
    "    'Loja': [\n",
    "        'Fundacion de Loja', 'Dia de la Madre'\n",
    "    ],\n",
    "    'El Oro': [\n",
    "        'Fundacion de Machala', 'Puente Primer dia del ano', 'Traslado Primer dia del ano'\n",
    "    ],\n",
    "    'Esmeraldas': [\n",
    "        'Fundacion de Esmeraldas'\n",
    "    ],\n",
    "    'Manabi': [\n",
    "        'Cantonizacion de Manta', 'Terremoto Manabi', 'Terremoto Manabi+1', 'Terremoto Manabi+2',\n",
    "        'Terremoto Manabi+3', 'Terremoto Manabi+4', 'Terremoto Manabi+5', 'Terremoto Manabi+6',\n",
    "        'Terremoto Manabi+7', 'Terremoto Manabi+8', 'Terremoto Manabi+9', 'Terremoto Manabi+10',\n",
    "        'Terremoto Manabi+11', 'Terremoto Manabi+12', 'Terremoto Manabi+13', 'Terremoto Manabi+14',\n",
    "        'Terremoto Manabi+15', 'Terremoto Manabi+16', 'Terremoto Manabi+17', 'Terremoto Manabi+18',\n",
    "        'Terremoto Manabi+19', 'Terremoto Manabi+20', 'Terremoto Manabi+21', 'Terremoto Manabi+22',\n",
    "        'Terremoto Manabi+23', 'Terremoto Manabi+24', 'Terremoto Manabi+25', 'Terremoto Manabi+26',\n",
    "        'Terremoto Manabi+27', 'Terremoto Manabi+28', 'Terremoto Manabi+29', 'Terremoto Manabi+30'\n",
    "    ]\n",
    "}\n",
    "city_holiday_dict = {\n",
    "    'Quito': [\n",
    "        'Fundacion de Quito', 'Fundacion de Quito-1', 'Puente Dia de Difuntos',\n",
    "        'Recupero Puente Dia de Difuntos', 'Traslado Fundacion de Quito',\n",
    "        'Dia de la Madre-1', 'Dia de la Madre', 'Dia de Difuntos', 'Recupero Puente Dia de Difuntos',\n",
    "        'Traslado Primer dia del ano', 'Black Friday', 'Recupero Puente Primer dia del ano'\n",
    "    ],\n",
    "    'Santo Domingo': [\n",
    "        'Fundacion de Santo Domingo', 'Provincializacion de Santo Domingo',\n",
    "        'Traslado Fundacion de Santo Domingo'\n",
    "    ],\n",
    "    'Cayambe': [\n",
    "        'Cantonizacion de Cayambe'\n",
    "    ],\n",
    "    'Latacunga': [\n",
    "        'Cantonizacion de Latacunga', 'Independencia de Latacunga',\n",
    "        'Puente Dia de Difuntos', 'Recupero Puente Dia de Difuntos', 'Traslado Primer dia del ano'\n",
    "    ],\n",
    "    'Riobamba': [\n",
    "        'Cantonizacion de Riobamba', 'Fundacion de Riobamba',\n",
    "        'Independencia de Ambato', 'Traslado Batalla de Pichincha',\n",
    "        'Traslado Fundacion de Guayaquil', 'Traslado Primer Grito de Independencia'\n",
    "    ],\n",
    "    'Ibarra': [\n",
    "        'Cantonizacion de Quevedo', 'Provincializacion de Imbabura', 'Cantonizacion de Ibarra',\n",
    "        'Dia de Difuntos', 'Recupero Puente Dia de Difuntos', 'Traslado Primer dia del ano'\n",
    "    ],\n",
    "    'Guaranda': [\n",
    "        'Cantonizacion de Guaranda', 'Independencia de Guaranda'\n",
    "    ],\n",
    "    'Puyo': [\n",
    "        'Cantonizacion del Puyo'\n",
    "    ],\n",
    "    'Ambato': [\n",
    "        'Fundacion de Ambato', 'Independencia de Ambato', 'Puente Dia de Difuntos',\n",
    "        'Recupero Puente Dia de Difuntos', 'Traslado Primer dia del ano'\n",
    "    ],\n",
    "    'Guayaquil': [\n",
    "        'Fundacion de Guayaquil', 'Cantonizacion de Libertad', 'Cantonizacion de El Carmen',\n",
    "        'Cantonizacion de Quevedo', 'Independencia de Guayaquil', 'Traslado Independencia de Guayaquil',\n",
    "        'Dia de la Madre', 'Puente Dia de Difuntos', 'Recupero Puente Dia de Difuntos',\n",
    "        'Traslado Primer dia del ano', 'Cyber Monday', 'Recupero Puente Primer dia del ano'\n",
    "    ],\n",
    "    'Salinas': [\n",
    "        'Cantonizacion de Salinas', 'Puente Dia de Difuntos',\n",
    "        'Recupero Puente Dia de Difuntos', 'Traslado Primer dia del ano'\n",
    "    ],\n",
    "    'Daule': [\n",
    "        'Dia del Trabajo'\n",
    "    ],\n",
    "    'Babahoyo': [\n",
    "        'Dia de la Madre'\n",
    "    ],\n",
    "    'Quevedo': [\n",
    "        'Cantonizacion de Quevedo', 'Dia del Trabajo', 'Dia de la Madre'\n",
    "    ],\n",
    "    'Playas': [\n",
    "        'Dia de la Madre'\n",
    "    ],\n",
    "    'Libertad': [\n",
    "        'Cantonizacion de Libertad', 'Dia de la Madre'\n",
    "    ],\n",
    "    'Cuenca': [\n",
    "        'Independencia de Cuenca', 'Dia de la Madre-1'\n",
    "    ],\n",
    "    'Loja': [\n",
    "        'Fundacion de Loja', 'Dia de la Madre'\n",
    "    ],\n",
    "    'Machala': [\n",
    "        'Fundacion de Machala', 'Puente Primer dia del ano', 'Traslado Primer dia del ano'\n",
    "    ],\n",
    "    'Esmeraldas': [\n",
    "        'Fundacion de Esmeraldas'\n",
    "    ],\n",
    "    'Manta': [\n",
    "        'Cantonizacion de Manta', 'Terremoto Manabi', 'Terremoto Manabi+1', 'Terremoto Manabi+2',\n",
    "        'Terremoto Manabi+3', 'Terremoto Manabi+4', 'Terremoto Manabi+5', 'Terremoto Manabi+6',\n",
    "        'Terremoto Manabi+7', 'Terremoto Manabi+8', 'Terremoto Manabi+9', 'Terremoto Manabi+10',\n",
    "        'Terremoto Manabi+11', 'Terremoto Manabi+12', 'Terremoto Manabi+13', 'Terremoto Manabi+14',\n",
    "        'Terremoto Manabi+15', 'Terremoto Manabi+16', 'Terremoto Manabi+17', 'Terremoto Manabi+18',\n",
    "        'Terremoto Manabi+19', 'Terremoto Manabi+20', 'Terremoto Manabi+21', 'Terremoto Manabi+22',\n",
    "        'Terremoto Manabi+23', 'Terremoto Manabi+24', 'Terremoto Manabi+25', 'Terremoto Manabi+26',\n",
    "        'Terremoto Manabi+27', 'Terremoto Manabi+28', 'Terremoto Manabi+29', 'Terremoto Manabi+30'\n",
    "    ],\n",
    "    'El Carmen': [\n",
    "        'Cantonizacion de El Carmen'\n",
    "    ]\n",
    "}\n"
   ]
  },
  {
   "cell_type": "code",
   "execution_count": 32,
   "id": "08b66b97",
   "metadata": {
    "execution": {
     "iopub.execute_input": "2024-02-10T15:12:12.879441Z",
     "iopub.status.busy": "2024-02-10T15:12:12.879052Z",
     "iopub.status.idle": "2024-02-10T15:12:20.041913Z",
     "shell.execute_reply": "2024-02-10T15:12:20.040801Z"
    },
    "papermill": {
     "duration": 7.187489,
     "end_time": "2024-02-10T15:12:20.044713",
     "exception": false,
     "start_time": "2024-02-10T15:12:12.857224",
     "status": "completed"
    },
    "tags": []
   },
   "outputs": [
    {
     "data": {
      "image/png": "[encoded data removed]",
      "text/plain": [
       "<Figure size 2000x300 with 1 Axes>"
      ]
     },
     "metadata": {},
     "output_type": "display_data"
    }
   ],
   "source": [
    "plt.figure(figsize=(20, 3))\n",
    "plt.plot(train['date'], train['sales'], marker='o', linestyle='-')\n",
    "plt.title('Sales Over Time')\n",
    "plt.xlabel('Date')\n",
    "plt.ylabel('Sales')\n",
    "plt.grid(True)\n",
    "plt.show()"
   ]
  },
  {
   "cell_type": "code",
   "execution_count": 33,
   "id": "95d53a41",
   "metadata": {
    "execution": {
     "iopub.execute_input": "2024-02-10T15:12:20.086578Z",
     "iopub.status.busy": "2024-02-10T15:12:20.086187Z",
     "iopub.status.idle": "2024-02-10T15:12:20.678476Z",
     "shell.execute_reply": "2024-02-10T15:12:20.677305Z"
    },
    "papermill": {
     "duration": 0.616271,
     "end_time": "2024-02-10T15:12:20.680994",
     "exception": false,
     "start_time": "2024-02-10T15:12:20.064723",
     "status": "completed"
    },
    "tags": []
   },
   "outputs": [
    {
     "name": "stderr",
     "output_type": "stream",
     "text": [
      "/opt/conda/lib/python3.10/site-packages/seaborn/_oldcore.py:1119: FutureWarning:\n",
      "\n",
      "use_inf_as_na option is deprecated and will be removed in a future version. Convert inf values to NaN before operating instead.\n",
      "\n",
      "/opt/conda/lib/python3.10/site-packages/seaborn/_oldcore.py:1119: FutureWarning:\n",
      "\n",
      "use_inf_as_na option is deprecated and will be removed in a future version. Convert inf values to NaN before operating instead.\n",
      "\n",
      "/opt/conda/lib/python3.10/site-packages/seaborn/_oldcore.py:1119: FutureWarning:\n",
      "\n",
      "use_inf_as_na option is deprecated and will be removed in a future version. Convert inf values to NaN before operating instead.\n",
      "\n",
      "/opt/conda/lib/python3.10/site-packages/seaborn/_oldcore.py:1119: FutureWarning:\n",
      "\n",
      "use_inf_as_na option is deprecated and will be removed in a future version. Convert inf values to NaN before operating instead.\n",
      "\n",
      "/opt/conda/lib/python3.10/site-packages/seaborn/_oldcore.py:1119: FutureWarning:\n",
      "\n",
      "use_inf_as_na option is deprecated and will be removed in a future version. Convert inf values to NaN before operating instead.\n",
      "\n",
      "/opt/conda/lib/python3.10/site-packages/seaborn/_oldcore.py:1119: FutureWarning:\n",
      "\n",
      "use_inf_as_na option is deprecated and will be removed in a future version. Convert inf values to NaN before operating instead.\n",
      "\n",
      "/opt/conda/lib/python3.10/site-packages/seaborn/_oldcore.py:1119: FutureWarning:\n",
      "\n",
      "use_inf_as_na option is deprecated and will be removed in a future version. Convert inf values to NaN before operating instead.\n",
      "\n",
      "/opt/conda/lib/python3.10/site-packages/seaborn/_oldcore.py:1119: FutureWarning:\n",
      "\n",
      "use_inf_as_na option is deprecated and will be removed in a future version. Convert inf values to NaN before operating instead.\n",
      "\n",
      "/opt/conda/lib/python3.10/site-packages/seaborn/_oldcore.py:1119: FutureWarning:\n",
      "\n",
      "use_inf_as_na option is deprecated and will be removed in a future version. Convert inf values to NaN before operating instead.\n",
      "\n",
      "/opt/conda/lib/python3.10/site-packages/seaborn/_oldcore.py:1119: FutureWarning:\n",
      "\n",
      "use_inf_as_na option is deprecated and will be removed in a future version. Convert inf values to NaN before operating instead.\n",
      "\n"
     ]
    },
    {
     "data": {
      "image/png": "[encoded data removed]",
      "text/plain": [
       "<Figure size 1200x600 with 1 Axes>"
      ]
     },
     "metadata": {},
     "output_type": "display_data"
    }
   ],
   "source": [
    "sales_by_month = train.groupby(['year', 'month'])['sales'].mean().reset_index()\n",
    "\n",
    "plt.figure(figsize=(12, 6))\n",
    "\n",
    "# Plot each year's sales as a separate line with a different color\n",
    "for year in sales_by_month['year'].unique():\n",
    "    year_data = sales_by_month[sales_by_month['year'] == year]\n",
    "    sns.lineplot(data=year_data, x='month', y='sales', label=year)\n",
    "\n",
    "plt.title('Monthly Sales Over Years')\n",
    "plt.xlabel('Month')\n",
    "plt.ylabel('Sales')\n",
    "plt.legend(title='Year')\n",
    "plt.grid(True)\n",
    "plt.show()"
   ]
  },
  {
   "cell_type": "code",
   "execution_count": 34,
   "id": "a0aab522",
   "metadata": {
    "execution": {
     "iopub.execute_input": "2024-02-10T15:12:20.728542Z",
     "iopub.status.busy": "2024-02-10T15:12:20.728094Z",
     "iopub.status.idle": "2024-02-10T15:13:41.702270Z",
     "shell.execute_reply": "2024-02-10T15:13:41.701076Z"
    },
    "papermill": {
     "duration": 81.028681,
     "end_time": "2024-02-10T15:13:41.731943",
     "exception": false,
     "start_time": "2024-02-10T15:12:20.703262",
     "status": "completed"
    },
    "tags": []
   },
   "outputs": [
    {
     "name": "stderr",
     "output_type": "stream",
     "text": [
      "/opt/conda/lib/python3.10/site-packages/seaborn/_oldcore.py:1119: FutureWarning:\n",
      "\n",
      "use_inf_as_na option is deprecated and will be removed in a future version. Convert inf values to NaN before operating instead.\n",
      "\n",
      "/opt/conda/lib/python3.10/site-packages/seaborn/_oldcore.py:1119: FutureWarning:\n",
      "\n",
      "use_inf_as_na option is deprecated and will be removed in a future version. Convert inf values to NaN before operating instead.\n",
      "\n"
     ]
    },
    {
     "data": {
      "image/png": "[encoded data removed]",
      "text/plain": [
       "<Figure size 1200x600 with 1 Axes>"
      ]
     },
     "metadata": {},
     "output_type": "display_data"
    }
   ],
   "source": [
    "plt.figure(figsize=(12, 6))\n",
    "sns.lineplot(data=train, x='date', y='sales')\n",
    "plt.title('Sales Over Time')\n",
    "plt.xlabel('Date')\n",
    "plt.ylabel('Sales')\n",
    "plt.grid(True)\n",
    "plt.show()"
   ]
  },
  {
   "cell_type": "markdown",
   "id": "cd925f13",
   "metadata": {
    "papermill": {
     "duration": 0.024344,
     "end_time": "2024-02-10T15:13:41.781782",
     "exception": false,
     "start_time": "2024-02-10T15:13:41.757438",
     "status": "completed"
    },
    "tags": []
   },
   "source": [
    "נראה שיש עונתיות שנתית מסוימת"
   ]
  },
  {
   "cell_type": "code",
   "execution_count": 35,
   "id": "f3edf262",
   "metadata": {
    "execution": {
     "iopub.execute_input": "2024-02-10T15:13:41.832511Z",
     "iopub.status.busy": "2024-02-10T15:13:41.832107Z",
     "iopub.status.idle": "2024-02-10T15:13:44.076930Z",
     "shell.execute_reply": "2024-02-10T15:13:44.075715Z"
    },
    "papermill": {
     "duration": 2.273672,
     "end_time": "2024-02-10T15:13:44.079908",
     "exception": false,
     "start_time": "2024-02-10T15:13:41.806236",
     "status": "completed"
    },
    "tags": []
   },
   "outputs": [
    {
     "data": {
      "image/png": "[encoded data removed]",
      "text/plain": [
       "<Figure size 2000x600 with 1 Axes>"
      ]
     },
     "metadata": {},
     "output_type": "display_data"
    }
   ],
   "source": [
    "plt.figure(figsize=(20, 6))\n",
    "sns.boxplot(data=train, x='store_nbr', y='sales')\n",
    "plt.title('Sales Distribution by Store Number')\n",
    "plt.xlabel('Store Number')\n",
    "plt.ylabel('Sales')\n",
    "plt.grid(True)\n",
    "plt.show()"
   ]
  },
  {
   "cell_type": "markdown",
   "id": "f9562c88",
   "metadata": {
    "papermill": {
     "duration": 0.024701,
     "end_time": "2024-02-10T15:13:44.129556",
     "exception": false,
     "start_time": "2024-02-10T15:13:44.104855",
     "status": "completed"
    },
    "tags": []
   },
   "source": [
    "# stores - geo"
   ]
  },
  {
   "cell_type": "code",
   "execution_count": 36,
   "id": "a7f43860",
   "metadata": {
    "execution": {
     "iopub.execute_input": "2024-02-10T15:13:44.181807Z",
     "iopub.status.busy": "2024-02-10T15:13:44.181132Z",
     "iopub.status.idle": "2024-02-10T15:13:44.190739Z",
     "shell.execute_reply": "2024-02-10T15:13:44.189659Z"
    },
    "papermill": {
     "duration": 0.038305,
     "end_time": "2024-02-10T15:13:44.192883",
     "exception": false,
     "start_time": "2024-02-10T15:13:44.154578",
     "status": "completed"
    },
    "tags": []
   },
   "outputs": [
    {
     "data": {
      "text/plain": [
       "state\n",
       "Pichincha                         19\n",
       "Guayas                            11\n",
       "Azuay                              3\n",
       "Manabi                             3\n",
       "Santo Domingo de los Tsachilas     3\n",
       "Cotopaxi                           2\n",
       "El Oro                             2\n",
       "Los Rios                           2\n",
       "Tungurahua                         2\n",
       "Bolivar                            1\n",
       "Chimborazo                         1\n",
       "Esmeraldas                         1\n",
       "Imbabura                           1\n",
       "Loja                               1\n",
       "Pastaza                            1\n",
       "Santa Elena                        1\n",
       "Name: city, dtype: int64"
      ]
     },
     "execution_count": 36,
     "metadata": {},
     "output_type": "execute_result"
    }
   ],
   "source": [
    "store.groupby('state').city.count().sort_values(ascending=False)"
   ]
  },
  {
   "cell_type": "code",
   "execution_count": 37,
   "id": "314741da",
   "metadata": {
    "execution": {
     "iopub.execute_input": "2024-02-10T15:13:44.245994Z",
     "iopub.status.busy": "2024-02-10T15:13:44.245312Z",
     "iopub.status.idle": "2024-02-10T15:13:44.256189Z",
     "shell.execute_reply": "2024-02-10T15:13:44.255067Z"
    },
    "papermill": {
     "duration": 0.03985,
     "end_time": "2024-02-10T15:13:44.258450",
     "exception": false,
     "start_time": "2024-02-10T15:13:44.218600",
     "status": "completed"
    },
    "tags": []
   },
   "outputs": [
    {
     "data": {
      "text/plain": [
       "state                           city         \n",
       "Azuay                           Cuenca            3\n",
       "Bolivar                         Guaranda          1\n",
       "Chimborazo                      Riobamba          1\n",
       "Cotopaxi                        Latacunga         2\n",
       "El Oro                          Machala           2\n",
       "Esmeraldas                      Esmeraldas        1\n",
       "Guayas                          Daule             1\n",
       "                                Guayaquil         8\n",
       "                                Libertad          1\n",
       "                                Playas            1\n",
       "Imbabura                        Ibarra            1\n",
       "Loja                            Loja              1\n",
       "Los Rios                        Babahoyo          1\n",
       "                                Quevedo           1\n",
       "Manabi                          El Carmen         1\n",
       "                                Manta             2\n",
       "Pastaza                         Puyo              1\n",
       "Pichincha                       Cayambe           1\n",
       "                                Quito            18\n",
       "Santa Elena                     Salinas           1\n",
       "Santo Domingo de los Tsachilas  Santo Domingo     3\n",
       "Tungurahua                      Ambato            2\n",
       "Name: city, dtype: int64"
      ]
     },
     "execution_count": 37,
     "metadata": {},
     "output_type": "execute_result"
    }
   ],
   "source": [
    "store.groupby(['state','city']).city.count()#.sort_values(ascending=False)"
   ]
  },
  {
   "cell_type": "markdown",
   "id": "acbe2705",
   "metadata": {
    "papermill": {
     "duration": 0.026154,
     "end_time": "2024-02-10T15:13:44.310582",
     "exception": false,
     "start_time": "2024-02-10T15:13:44.284428",
     "status": "completed"
    },
    "tags": []
   },
   "source": [
    "## transaction"
   ]
  },
  {
   "cell_type": "code",
   "execution_count": 38,
   "id": "e75a8d96",
   "metadata": {
    "execution": {
     "iopub.execute_input": "2024-02-10T15:13:44.364187Z",
     "iopub.status.busy": "2024-02-10T15:13:44.363774Z",
     "iopub.status.idle": "2024-02-10T15:13:44.376527Z",
     "shell.execute_reply": "2024-02-10T15:13:44.375665Z"
    },
    "papermill": {
     "duration": 0.04214,
     "end_time": "2024-02-10T15:13:44.378678",
     "exception": false,
     "start_time": "2024-02-10T15:13:44.336538",
     "status": "completed"
    },
    "tags": []
   },
   "outputs": [
    {
     "data": {
      "text/html": [
       "<div>\n",
       "<style scoped>\n",
       "    .dataframe tbody tr th:only-of-type {\n",
       "        vertical-align: middle;\n",
       "    }\n",
       "\n",
       "    .dataframe tbody tr th {\n",
       "        vertical-align: top;\n",
       "    }\n",
       "\n",
       "    .dataframe thead th {\n",
       "        text-align: right;\n",
       "    }\n",
       "</style>\n",
       "<table border=\"1\" class=\"dataframe\">\n",
       "  <thead>\n",
       "    <tr style=\"text-align: right;\">\n",
       "      <th></th>\n",
       "      <th>date</th>\n",
       "      <th>store_nbr</th>\n",
       "      <th>transactions</th>\n",
       "    </tr>\n",
       "  </thead>\n",
       "  <tbody>\n",
       "    <tr>\n",
       "      <th>0</th>\n",
       "      <td>2013-01-01</td>\n",
       "      <td>25</td>\n",
       "      <td>770</td>\n",
       "    </tr>\n",
       "    <tr>\n",
       "      <th>1</th>\n",
       "      <td>2013-01-02</td>\n",
       "      <td>1</td>\n",
       "      <td>2111</td>\n",
       "    </tr>\n",
       "    <tr>\n",
       "      <th>2</th>\n",
       "      <td>2013-01-02</td>\n",
       "      <td>2</td>\n",
       "      <td>2358</td>\n",
       "    </tr>\n",
       "    <tr>\n",
       "      <th>3</th>\n",
       "      <td>2013-01-02</td>\n",
       "      <td>3</td>\n",
       "      <td>3487</td>\n",
       "    </tr>\n",
       "    <tr>\n",
       "      <th>4</th>\n",
       "      <td>2013-01-02</td>\n",
       "      <td>4</td>\n",
       "      <td>1922</td>\n",
       "    </tr>\n",
       "    <tr>\n",
       "      <th>...</th>\n",
       "      <td>...</td>\n",
       "      <td>...</td>\n",
       "      <td>...</td>\n",
       "    </tr>\n",
       "    <tr>\n",
       "      <th>83483</th>\n",
       "      <td>2017-08-15</td>\n",
       "      <td>50</td>\n",
       "      <td>2804</td>\n",
       "    </tr>\n",
       "    <tr>\n",
       "      <th>83484</th>\n",
       "      <td>2017-08-15</td>\n",
       "      <td>51</td>\n",
       "      <td>1573</td>\n",
       "    </tr>\n",
       "    <tr>\n",
       "      <th>83485</th>\n",
       "      <td>2017-08-15</td>\n",
       "      <td>52</td>\n",
       "      <td>2255</td>\n",
       "    </tr>\n",
       "    <tr>\n",
       "      <th>83486</th>\n",
       "      <td>2017-08-15</td>\n",
       "      <td>53</td>\n",
       "      <td>932</td>\n",
       "    </tr>\n",
       "    <tr>\n",
       "      <th>83487</th>\n",
       "      <td>2017-08-15</td>\n",
       "      <td>54</td>\n",
       "      <td>802</td>\n",
       "    </tr>\n",
       "  </tbody>\n",
       "</table>\n",
       "<p>83488 rows × 3 columns</p>\n",
       "</div>"
      ],
      "text/plain": [
       "            date  store_nbr  transactions\n",
       "0     2013-01-01         25           770\n",
       "1     2013-01-02          1          2111\n",
       "2     2013-01-02          2          2358\n",
       "3     2013-01-02          3          3487\n",
       "4     2013-01-02          4          1922\n",
       "...          ...        ...           ...\n",
       "83483 2017-08-15         50          2804\n",
       "83484 2017-08-15         51          1573\n",
       "83485 2017-08-15         52          2255\n",
       "83486 2017-08-15         53           932\n",
       "83487 2017-08-15         54           802\n",
       "\n",
       "[83488 rows x 3 columns]"
      ]
     },
     "execution_count": 38,
     "metadata": {},
     "output_type": "execute_result"
    }
   ],
   "source": [
    "transaction"
   ]
  },
  {
   "cell_type": "markdown",
   "id": "062a8d15",
   "metadata": {
    "papermill": {
     "duration": 0.026157,
     "end_time": "2024-02-10T15:13:44.431215",
     "exception": false,
     "start_time": "2024-02-10T15:13:44.405058",
     "status": "completed"
    },
    "tags": []
   },
   "source": [
    "### zero sales!!"
   ]
  },
  {
   "cell_type": "code",
   "execution_count": 39,
   "id": "ca8ba27f",
   "metadata": {
    "execution": {
     "iopub.execute_input": "2024-02-10T15:13:44.489225Z",
     "iopub.status.busy": "2024-02-10T15:13:44.488517Z",
     "iopub.status.idle": "2024-02-10T15:13:44.891072Z",
     "shell.execute_reply": "2024-02-10T15:13:44.889627Z"
    },
    "papermill": {
     "duration": 0.434368,
     "end_time": "2024-02-10T15:13:44.893832",
     "exception": false,
     "start_time": "2024-02-10T15:13:44.459464",
     "status": "completed"
    },
    "tags": []
   },
   "outputs": [
    {
     "data": {
      "text/html": [
       "<div>\n",
       "<style scoped>\n",
       "    .dataframe tbody tr th:only-of-type {\n",
       "        vertical-align: middle;\n",
       "    }\n",
       "\n",
       "    .dataframe tbody tr th {\n",
       "        vertical-align: top;\n",
       "    }\n",
       "\n",
       "    .dataframe thead th {\n",
       "        text-align: right;\n",
       "    }\n",
       "</style>\n",
       "<table border=\"1\" class=\"dataframe\">\n",
       "  <thead>\n",
       "    <tr style=\"text-align: right;\">\n",
       "      <th></th>\n",
       "      <th>store_nbr</th>\n",
       "      <th>family</th>\n",
       "      <th>sales</th>\n",
       "    </tr>\n",
       "  </thead>\n",
       "  <tbody>\n",
       "    <tr>\n",
       "      <th>1</th>\n",
       "      <td>1</td>\n",
       "      <td>BABY CARE</td>\n",
       "      <td>0.0</td>\n",
       "    </tr>\n",
       "    <tr>\n",
       "      <th>397</th>\n",
       "      <td>13</td>\n",
       "      <td>BABY CARE</td>\n",
       "      <td>0.0</td>\n",
       "    </tr>\n",
       "    <tr>\n",
       "      <th>727</th>\n",
       "      <td>23</td>\n",
       "      <td>BABY CARE</td>\n",
       "      <td>0.0</td>\n",
       "    </tr>\n",
       "    <tr>\n",
       "      <th>1420</th>\n",
       "      <td>44</td>\n",
       "      <td>BABY CARE</td>\n",
       "      <td>0.0</td>\n",
       "    </tr>\n",
       "    <tr>\n",
       "      <th>1453</th>\n",
       "      <td>45</td>\n",
       "      <td>BABY CARE</td>\n",
       "      <td>0.0</td>\n",
       "    </tr>\n",
       "    <tr>\n",
       "      <th>1486</th>\n",
       "      <td>46</td>\n",
       "      <td>BABY CARE</td>\n",
       "      <td>0.0</td>\n",
       "    </tr>\n",
       "    <tr>\n",
       "      <th>1519</th>\n",
       "      <td>47</td>\n",
       "      <td>BABY CARE</td>\n",
       "      <td>0.0</td>\n",
       "    </tr>\n",
       "    <tr>\n",
       "      <th>1552</th>\n",
       "      <td>48</td>\n",
       "      <td>BABY CARE</td>\n",
       "      <td>0.0</td>\n",
       "    </tr>\n",
       "    <tr>\n",
       "      <th>1585</th>\n",
       "      <td>49</td>\n",
       "      <td>BABY CARE</td>\n",
       "      <td>0.0</td>\n",
       "    </tr>\n",
       "    <tr>\n",
       "      <th>1618</th>\n",
       "      <td>50</td>\n",
       "      <td>BABY CARE</td>\n",
       "      <td>0.0</td>\n",
       "    </tr>\n",
       "    <tr>\n",
       "      <th>1651</th>\n",
       "      <td>51</td>\n",
       "      <td>BABY CARE</td>\n",
       "      <td>0.0</td>\n",
       "    </tr>\n",
       "    <tr>\n",
       "      <th>1684</th>\n",
       "      <td>52</td>\n",
       "      <td>BABY CARE</td>\n",
       "      <td>0.0</td>\n",
       "    </tr>\n",
       "    <tr>\n",
       "      <th>268</th>\n",
       "      <td>9</td>\n",
       "      <td>BOOKS</td>\n",
       "      <td>0.0</td>\n",
       "    </tr>\n",
       "    <tr>\n",
       "      <th>301</th>\n",
       "      <td>10</td>\n",
       "      <td>BOOKS</td>\n",
       "      <td>0.0</td>\n",
       "    </tr>\n",
       "    <tr>\n",
       "      <th>334</th>\n",
       "      <td>11</td>\n",
       "      <td>BOOKS</td>\n",
       "      <td>0.0</td>\n",
       "    </tr>\n",
       "    <tr>\n",
       "      <th>367</th>\n",
       "      <td>12</td>\n",
       "      <td>BOOKS</td>\n",
       "      <td>0.0</td>\n",
       "    </tr>\n",
       "    <tr>\n",
       "      <th>400</th>\n",
       "      <td>13</td>\n",
       "      <td>BOOKS</td>\n",
       "      <td>0.0</td>\n",
       "    </tr>\n",
       "    <tr>\n",
       "      <th>433</th>\n",
       "      <td>14</td>\n",
       "      <td>BOOKS</td>\n",
       "      <td>0.0</td>\n",
       "    </tr>\n",
       "    <tr>\n",
       "      <th>466</th>\n",
       "      <td>15</td>\n",
       "      <td>BOOKS</td>\n",
       "      <td>0.0</td>\n",
       "    </tr>\n",
       "    <tr>\n",
       "      <th>499</th>\n",
       "      <td>16</td>\n",
       "      <td>BOOKS</td>\n",
       "      <td>0.0</td>\n",
       "    </tr>\n",
       "    <tr>\n",
       "      <th>532</th>\n",
       "      <td>17</td>\n",
       "      <td>BOOKS</td>\n",
       "      <td>0.0</td>\n",
       "    </tr>\n",
       "    <tr>\n",
       "      <th>565</th>\n",
       "      <td>18</td>\n",
       "      <td>BOOKS</td>\n",
       "      <td>0.0</td>\n",
       "    </tr>\n",
       "    <tr>\n",
       "      <th>598</th>\n",
       "      <td>19</td>\n",
       "      <td>BOOKS</td>\n",
       "      <td>0.0</td>\n",
       "    </tr>\n",
       "    <tr>\n",
       "      <th>631</th>\n",
       "      <td>20</td>\n",
       "      <td>BOOKS</td>\n",
       "      <td>0.0</td>\n",
       "    </tr>\n",
       "    <tr>\n",
       "      <th>664</th>\n",
       "      <td>21</td>\n",
       "      <td>BOOKS</td>\n",
       "      <td>0.0</td>\n",
       "    </tr>\n",
       "    <tr>\n",
       "      <th>697</th>\n",
       "      <td>22</td>\n",
       "      <td>BOOKS</td>\n",
       "      <td>0.0</td>\n",
       "    </tr>\n",
       "    <tr>\n",
       "      <th>895</th>\n",
       "      <td>28</td>\n",
       "      <td>BOOKS</td>\n",
       "      <td>0.0</td>\n",
       "    </tr>\n",
       "    <tr>\n",
       "      <th>928</th>\n",
       "      <td>29</td>\n",
       "      <td>BOOKS</td>\n",
       "      <td>0.0</td>\n",
       "    </tr>\n",
       "    <tr>\n",
       "      <th>961</th>\n",
       "      <td>30</td>\n",
       "      <td>BOOKS</td>\n",
       "      <td>0.0</td>\n",
       "    </tr>\n",
       "    <tr>\n",
       "      <th>994</th>\n",
       "      <td>31</td>\n",
       "      <td>BOOKS</td>\n",
       "      <td>0.0</td>\n",
       "    </tr>\n",
       "    <tr>\n",
       "      <th>1027</th>\n",
       "      <td>32</td>\n",
       "      <td>BOOKS</td>\n",
       "      <td>0.0</td>\n",
       "    </tr>\n",
       "    <tr>\n",
       "      <th>1060</th>\n",
       "      <td>33</td>\n",
       "      <td>BOOKS</td>\n",
       "      <td>0.0</td>\n",
       "    </tr>\n",
       "    <tr>\n",
       "      <th>1093</th>\n",
       "      <td>34</td>\n",
       "      <td>BOOKS</td>\n",
       "      <td>0.0</td>\n",
       "    </tr>\n",
       "    <tr>\n",
       "      <th>1126</th>\n",
       "      <td>35</td>\n",
       "      <td>BOOKS</td>\n",
       "      <td>0.0</td>\n",
       "    </tr>\n",
       "    <tr>\n",
       "      <th>1159</th>\n",
       "      <td>36</td>\n",
       "      <td>BOOKS</td>\n",
       "      <td>0.0</td>\n",
       "    </tr>\n",
       "    <tr>\n",
       "      <th>1258</th>\n",
       "      <td>39</td>\n",
       "      <td>BOOKS</td>\n",
       "      <td>0.0</td>\n",
       "    </tr>\n",
       "    <tr>\n",
       "      <th>1291</th>\n",
       "      <td>40</td>\n",
       "      <td>BOOKS</td>\n",
       "      <td>0.0</td>\n",
       "    </tr>\n",
       "    <tr>\n",
       "      <th>1390</th>\n",
       "      <td>43</td>\n",
       "      <td>BOOKS</td>\n",
       "      <td>0.0</td>\n",
       "    </tr>\n",
       "    <tr>\n",
       "      <th>1687</th>\n",
       "      <td>52</td>\n",
       "      <td>BOOKS</td>\n",
       "      <td>0.0</td>\n",
       "    </tr>\n",
       "    <tr>\n",
       "      <th>1753</th>\n",
       "      <td>54</td>\n",
       "      <td>BOOKS</td>\n",
       "      <td>0.0</td>\n",
       "    </tr>\n",
       "    <tr>\n",
       "      <th>514</th>\n",
       "      <td>16</td>\n",
       "      <td>LADIESWEAR</td>\n",
       "      <td>0.0</td>\n",
       "    </tr>\n",
       "    <tr>\n",
       "      <th>811</th>\n",
       "      <td>25</td>\n",
       "      <td>LADIESWEAR</td>\n",
       "      <td>0.0</td>\n",
       "    </tr>\n",
       "    <tr>\n",
       "      <th>910</th>\n",
       "      <td>28</td>\n",
       "      <td>LADIESWEAR</td>\n",
       "      <td>0.0</td>\n",
       "    </tr>\n",
       "    <tr>\n",
       "      <th>943</th>\n",
       "      <td>29</td>\n",
       "      <td>LADIESWEAR</td>\n",
       "      <td>0.0</td>\n",
       "    </tr>\n",
       "    <tr>\n",
       "      <th>1042</th>\n",
       "      <td>32</td>\n",
       "      <td>LADIESWEAR</td>\n",
       "      <td>0.0</td>\n",
       "    </tr>\n",
       "    <tr>\n",
       "      <th>1075</th>\n",
       "      <td>33</td>\n",
       "      <td>LADIESWEAR</td>\n",
       "      <td>0.0</td>\n",
       "    </tr>\n",
       "    <tr>\n",
       "      <th>1141</th>\n",
       "      <td>35</td>\n",
       "      <td>LADIESWEAR</td>\n",
       "      <td>0.0</td>\n",
       "    </tr>\n",
       "    <tr>\n",
       "      <th>1306</th>\n",
       "      <td>40</td>\n",
       "      <td>LADIESWEAR</td>\n",
       "      <td>0.0</td>\n",
       "    </tr>\n",
       "    <tr>\n",
       "      <th>1405</th>\n",
       "      <td>43</td>\n",
       "      <td>LADIESWEAR</td>\n",
       "      <td>0.0</td>\n",
       "    </tr>\n",
       "    <tr>\n",
       "      <th>1768</th>\n",
       "      <td>54</td>\n",
       "      <td>LADIESWEAR</td>\n",
       "      <td>0.0</td>\n",
       "    </tr>\n",
       "    <tr>\n",
       "      <th>449</th>\n",
       "      <td>14</td>\n",
       "      <td>LAWN AND GARDEN</td>\n",
       "      <td>0.0</td>\n",
       "    </tr>\n",
       "    <tr>\n",
       "      <th>977</th>\n",
       "      <td>30</td>\n",
       "      <td>LAWN AND GARDEN</td>\n",
       "      <td>0.0</td>\n",
       "    </tr>\n",
       "    <tr>\n",
       "      <th>1769</th>\n",
       "      <td>54</td>\n",
       "      <td>LAWN AND GARDEN</td>\n",
       "      <td>0.0</td>\n",
       "    </tr>\n",
       "  </tbody>\n",
       "</table>\n",
       "</div>"
      ],
      "text/plain": [
       "      store_nbr           family  sales\n",
       "1             1        BABY CARE    0.0\n",
       "397          13        BABY CARE    0.0\n",
       "727          23        BABY CARE    0.0\n",
       "1420         44        BABY CARE    0.0\n",
       "1453         45        BABY CARE    0.0\n",
       "1486         46        BABY CARE    0.0\n",
       "1519         47        BABY CARE    0.0\n",
       "1552         48        BABY CARE    0.0\n",
       "1585         49        BABY CARE    0.0\n",
       "1618         50        BABY CARE    0.0\n",
       "1651         51        BABY CARE    0.0\n",
       "1684         52        BABY CARE    0.0\n",
       "268           9            BOOKS    0.0\n",
       "301          10            BOOKS    0.0\n",
       "334          11            BOOKS    0.0\n",
       "367          12            BOOKS    0.0\n",
       "400          13            BOOKS    0.0\n",
       "433          14            BOOKS    0.0\n",
       "466          15            BOOKS    0.0\n",
       "499          16            BOOKS    0.0\n",
       "532          17            BOOKS    0.0\n",
       "565          18            BOOKS    0.0\n",
       "598          19            BOOKS    0.0\n",
       "631          20            BOOKS    0.0\n",
       "664          21            BOOKS    0.0\n",
       "697          22            BOOKS    0.0\n",
       "895          28            BOOKS    0.0\n",
       "928          29            BOOKS    0.0\n",
       "961          30            BOOKS    0.0\n",
       "994          31            BOOKS    0.0\n",
       "1027         32            BOOKS    0.0\n",
       "1060         33            BOOKS    0.0\n",
       "1093         34            BOOKS    0.0\n",
       "1126         35            BOOKS    0.0\n",
       "1159         36            BOOKS    0.0\n",
       "1258         39            BOOKS    0.0\n",
       "1291         40            BOOKS    0.0\n",
       "1390         43            BOOKS    0.0\n",
       "1687         52            BOOKS    0.0\n",
       "1753         54            BOOKS    0.0\n",
       "514          16       LADIESWEAR    0.0\n",
       "811          25       LADIESWEAR    0.0\n",
       "910          28       LADIESWEAR    0.0\n",
       "943          29       LADIESWEAR    0.0\n",
       "1042         32       LADIESWEAR    0.0\n",
       "1075         33       LADIESWEAR    0.0\n",
       "1141         35       LADIESWEAR    0.0\n",
       "1306         40       LADIESWEAR    0.0\n",
       "1405         43       LADIESWEAR    0.0\n",
       "1768         54       LADIESWEAR    0.0\n",
       "449          14  LAWN AND GARDEN    0.0\n",
       "977          30  LAWN AND GARDEN    0.0\n",
       "1769         54  LAWN AND GARDEN    0.0"
      ]
     },
     "execution_count": 39,
     "metadata": {},
     "output_type": "execute_result"
    }
   ],
   "source": [
    "zeros = train.groupby([\"store_nbr\", \"family\"]).sales.sum().reset_index().sort_values([\"family\",\"store_nbr\"])\n",
    "zeros = zeros[zeros.sales == 0]\n",
    "zeros"
   ]
  },
  {
   "cell_type": "markdown",
   "id": "fe81f489",
   "metadata": {
    "papermill": {
     "duration": 0.027111,
     "end_time": "2024-02-10T15:13:44.948886",
     "exception": false,
     "start_time": "2024-02-10T15:13:44.921775",
     "status": "completed"
    },
    "tags": []
   },
   "source": [
    "אנחנו נמחוק את הסדרות האלה מהנתונים שלנו, וננבא בהן \"0\""
   ]
  },
  {
   "cell_type": "code",
   "execution_count": 40,
   "id": "0f8f009f",
   "metadata": {
    "execution": {
     "iopub.execute_input": "2024-02-10T15:13:45.007102Z",
     "iopub.status.busy": "2024-02-10T15:13:45.006683Z",
     "iopub.status.idle": "2024-02-10T15:13:48.121466Z",
     "shell.execute_reply": "2024-02-10T15:13:48.120301Z"
    },
    "papermill": {
     "duration": 3.146003,
     "end_time": "2024-02-10T15:13:48.123922",
     "exception": false,
     "start_time": "2024-02-10T15:13:44.977919",
     "status": "completed"
    },
    "tags": []
   },
   "outputs": [
    {
     "name": "stdout",
     "output_type": "stream",
     "text": [
      "(3000888, 13)\n"
     ]
    },
    {
     "data": {
      "text/plain": [
       "(2911636, 13)"
      ]
     },
     "execution_count": 40,
     "metadata": {},
     "output_type": "execute_result"
    }
   ],
   "source": [
    "print(train.shape)\n",
    "# Anti Join\n",
    "outer_join = train.merge(zeros[zeros.sales == 0].drop(\"sales\",axis = 1), how = 'outer', indicator = True)\n",
    "train = outer_join[~(outer_join._merge == 'both')].drop('_merge', axis = 1)\n",
    "del outer_join\n",
    "#gc.collect()\n",
    "train.shape"
   ]
  },
  {
   "cell_type": "code",
   "execution_count": null,
   "id": "7ee31e79",
   "metadata": {
    "papermill": {
     "duration": 0.026702,
     "end_time": "2024-02-10T15:13:48.177757",
     "exception": false,
     "start_time": "2024-02-10T15:13:48.151055",
     "status": "completed"
    },
    "tags": []
   },
   "outputs": [],
   "source": []
  },
  {
   "cell_type": "markdown",
   "id": "3c535a79",
   "metadata": {
    "papermill": {
     "duration": 0.026559,
     "end_time": "2024-02-10T15:13:48.231881",
     "exception": false,
     "start_time": "2024-02-10T15:13:48.205322",
     "status": "completed"
    },
    "tags": []
   },
   "source": [
    "שלבים להמשך:\n",
    "1. להמשיך לזהות חוסרים בדאטא\n",
    "1. להוסיף נתונים של זמן, מקום וכו\n",
    "2. לעשות ויזואליזציה לנתונים ולראות איזה תופעות אנחנו יכולים לאתר \n",
    "3. לייצר משתנים על בסיס התופעות לעיל\n",
    "4. לייצר משתנים מעולמות של סדרות זמן (משתני זמן, טרנד, עונתיות וכו')\n",
    "5. לחשוב האם נכון לייצר ערכי לאג ממוצעים (למשל כלל המכירות אתמול)\n",
    "5. לאחד את הנתונים השונים (מכירות, חגים, מחיר דלקים)\n",
    "6. לחקור את החנויות והמוצרים השונים, לראות אם יש התנהגות שונה לכל אחד מהם\n",
    "8. לבנות מודלי חיזוי\n",
    "א. סרימקס\n",
    "ב. ליניארי עם טרנד ועונתיות\n",
    "ג. מודלי בוסטינג ועצים\n",
    "ד. רשת נוירונים\n",
    "ה. LSTM\n",
    "ו. מודל משולב\n",
    "9. לחשוב איך נכון להפעיל את המודלים"
   ]
  }
 ],
 "metadata": {
  "kaggle": {
   "accelerator": "none",
   "dataSources": [
    {
     "databundleVersionId": 2887556,
     "sourceId": 29781,
     "sourceType": "competition"
    }
   ],
   "dockerImageVersionId": 30646,
   "isGpuEnabled": false,
   "isInternetEnabled": true,
   "language": "python",
   "sourceType": "notebook"
  },
  "kernelspec": {
   "display_name": "Python 3",
   "language": "python",
   "name": "python3"
  },
  "language_info": {
   "codemirror_mode": {
    "name": "ipython",
    "version": 3
   },
   "file_extension": ".py",
   "mimetype": "text/x-python",
   "name": "python",
   "nbconvert_exporter": "python",
   "pygments_lexer": "ipython3",
   "version": "3.11.5"
  },
  "papermill": {
   "default_parameters": {},
   "duration": 192.704597,
   "end_time": "2024-02-10T15:13:49.683842",
   "environment_variables": {},
   "exception": null,
   "input_path": "__notebook__.ipynb",
   "output_path": "__notebook__.ipynb",
   "parameters": {},
   "start_time": "2024-02-10T15:10:36.979245",
   "version": "2.5.0"
  }
 },
 "nbformat": 4,
 "nbformat_minor": 5
}
